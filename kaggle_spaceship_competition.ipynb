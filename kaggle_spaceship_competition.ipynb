{
 "cells": [
  {
   "cell_type": "markdown",
   "id": "ea7af0d0",
   "metadata": {},
   "source": [
    "# Imports"
   ]
  },
  {
   "cell_type": "code",
   "execution_count": 570,
   "id": "42145ca5",
   "metadata": {},
   "outputs": [],
   "source": [
    "import numpy as np\n",
    "from numpy.random import choice\n",
    "import pandas as pd\n",
    "\n",
    "import matplotlib.pyplot as plt\n",
    "import seaborn as sns\n",
    "\n",
    "pd.set_option('display.max_columns', None)\n",
    "\n",
    "from xgboost import XGBClassifier\n",
    "from xgboost import XGBRegressor\n",
    "from xgboost import plot_importance\n",
    "\n",
    "from sklearn.linear_model import LogisticRegression\n",
    "from sklearn.tree import DecisionTreeClassifier\n",
    "from sklearn.ensemble import RandomForestClassifier\n",
    "\n",
    "from sklearn.model_selection import GridSearchCV, train_test_split\n",
    "from sklearn.metrics import accuracy_score, precision_score, recall_score,\\\n",
    "f1_score, confusion_matrix, ConfusionMatrixDisplay, classification_report\n",
    "from sklearn.metrics import roc_auc_score, roc_curve\n",
    "from sklearn.tree import plot_tree\n",
    "\n",
    "import pickle"
   ]
  },
  {
   "cell_type": "markdown",
   "id": "3abd2064",
   "metadata": {},
   "source": [
    "# Load Data"
   ]
  },
  {
   "cell_type": "code",
   "execution_count": 571,
   "id": "9b46491d",
   "metadata": {},
   "outputs": [],
   "source": [
    "# Load train and test data\n",
    "train = pd.read_csv('data/train.csv')\n",
    "test = pd.read_csv('data/test.csv')"
   ]
  },
  {
   "cell_type": "code",
   "execution_count": 388,
   "id": "369486d0",
   "metadata": {},
   "outputs": [
    {
     "data": {
      "text/html": [
       "<div>\n",
       "<style scoped>\n",
       "    .dataframe tbody tr th:only-of-type {\n",
       "        vertical-align: middle;\n",
       "    }\n",
       "\n",
       "    .dataframe tbody tr th {\n",
       "        vertical-align: top;\n",
       "    }\n",
       "\n",
       "    .dataframe thead th {\n",
       "        text-align: right;\n",
       "    }\n",
       "</style>\n",
       "<table border=\"1\" class=\"dataframe\">\n",
       "  <thead>\n",
       "    <tr style=\"text-align: right;\">\n",
       "      <th></th>\n",
       "      <th>PassengerId</th>\n",
       "      <th>HomePlanet</th>\n",
       "      <th>CryoSleep</th>\n",
       "      <th>Cabin</th>\n",
       "      <th>Destination</th>\n",
       "      <th>Age</th>\n",
       "      <th>VIP</th>\n",
       "      <th>RoomService</th>\n",
       "      <th>FoodCourt</th>\n",
       "      <th>ShoppingMall</th>\n",
       "      <th>Spa</th>\n",
       "      <th>VRDeck</th>\n",
       "      <th>Name</th>\n",
       "      <th>Transported</th>\n",
       "    </tr>\n",
       "  </thead>\n",
       "  <tbody>\n",
       "    <tr>\n",
       "      <th>0</th>\n",
       "      <td>0001_01</td>\n",
       "      <td>Europa</td>\n",
       "      <td>False</td>\n",
       "      <td>B/0/P</td>\n",
       "      <td>TRAPPIST-1e</td>\n",
       "      <td>39.0</td>\n",
       "      <td>False</td>\n",
       "      <td>0.0</td>\n",
       "      <td>0.0</td>\n",
       "      <td>0.0</td>\n",
       "      <td>0.0</td>\n",
       "      <td>0.0</td>\n",
       "      <td>Maham Ofracculy</td>\n",
       "      <td>False</td>\n",
       "    </tr>\n",
       "    <tr>\n",
       "      <th>1</th>\n",
       "      <td>0002_01</td>\n",
       "      <td>Earth</td>\n",
       "      <td>False</td>\n",
       "      <td>F/0/S</td>\n",
       "      <td>TRAPPIST-1e</td>\n",
       "      <td>24.0</td>\n",
       "      <td>False</td>\n",
       "      <td>109.0</td>\n",
       "      <td>9.0</td>\n",
       "      <td>25.0</td>\n",
       "      <td>549.0</td>\n",
       "      <td>44.0</td>\n",
       "      <td>Juanna Vines</td>\n",
       "      <td>True</td>\n",
       "    </tr>\n",
       "    <tr>\n",
       "      <th>2</th>\n",
       "      <td>0003_01</td>\n",
       "      <td>Europa</td>\n",
       "      <td>False</td>\n",
       "      <td>A/0/S</td>\n",
       "      <td>TRAPPIST-1e</td>\n",
       "      <td>58.0</td>\n",
       "      <td>True</td>\n",
       "      <td>43.0</td>\n",
       "      <td>3576.0</td>\n",
       "      <td>0.0</td>\n",
       "      <td>6715.0</td>\n",
       "      <td>49.0</td>\n",
       "      <td>Altark Susent</td>\n",
       "      <td>False</td>\n",
       "    </tr>\n",
       "    <tr>\n",
       "      <th>3</th>\n",
       "      <td>0003_02</td>\n",
       "      <td>Europa</td>\n",
       "      <td>False</td>\n",
       "      <td>A/0/S</td>\n",
       "      <td>TRAPPIST-1e</td>\n",
       "      <td>33.0</td>\n",
       "      <td>False</td>\n",
       "      <td>0.0</td>\n",
       "      <td>1283.0</td>\n",
       "      <td>371.0</td>\n",
       "      <td>3329.0</td>\n",
       "      <td>193.0</td>\n",
       "      <td>Solam Susent</td>\n",
       "      <td>False</td>\n",
       "    </tr>\n",
       "    <tr>\n",
       "      <th>4</th>\n",
       "      <td>0004_01</td>\n",
       "      <td>Earth</td>\n",
       "      <td>False</td>\n",
       "      <td>F/1/S</td>\n",
       "      <td>TRAPPIST-1e</td>\n",
       "      <td>16.0</td>\n",
       "      <td>False</td>\n",
       "      <td>303.0</td>\n",
       "      <td>70.0</td>\n",
       "      <td>151.0</td>\n",
       "      <td>565.0</td>\n",
       "      <td>2.0</td>\n",
       "      <td>Willy Santantines</td>\n",
       "      <td>True</td>\n",
       "    </tr>\n",
       "  </tbody>\n",
       "</table>\n",
       "</div>"
      ],
      "text/plain": [
       "  PassengerId HomePlanet CryoSleep  Cabin  Destination   Age    VIP  \\\n",
       "0     0001_01     Europa     False  B/0/P  TRAPPIST-1e  39.0  False   \n",
       "1     0002_01      Earth     False  F/0/S  TRAPPIST-1e  24.0  False   \n",
       "2     0003_01     Europa     False  A/0/S  TRAPPIST-1e  58.0   True   \n",
       "3     0003_02     Europa     False  A/0/S  TRAPPIST-1e  33.0  False   \n",
       "4     0004_01      Earth     False  F/1/S  TRAPPIST-1e  16.0  False   \n",
       "\n",
       "   RoomService  FoodCourt  ShoppingMall     Spa  VRDeck               Name  \\\n",
       "0          0.0        0.0           0.0     0.0     0.0    Maham Ofracculy   \n",
       "1        109.0        9.0          25.0   549.0    44.0       Juanna Vines   \n",
       "2         43.0     3576.0           0.0  6715.0    49.0      Altark Susent   \n",
       "3          0.0     1283.0         371.0  3329.0   193.0       Solam Susent   \n",
       "4        303.0       70.0         151.0   565.0     2.0  Willy Santantines   \n",
       "\n",
       "   Transported  \n",
       "0        False  \n",
       "1         True  \n",
       "2        False  \n",
       "3        False  \n",
       "4         True  "
      ]
     },
     "execution_count": 388,
     "metadata": {},
     "output_type": "execute_result"
    }
   ],
   "source": [
    "# See first 5 rows\n",
    "train.head()"
   ]
  },
  {
   "cell_type": "markdown",
   "id": "eaad6c77",
   "metadata": {},
   "source": [
    "# EDA Process"
   ]
  },
  {
   "cell_type": "code",
   "execution_count": 389,
   "id": "4ccfde67",
   "metadata": {},
   "outputs": [
    {
     "name": "stdout",
     "output_type": "stream",
     "text": [
      "<class 'pandas.core.frame.DataFrame'>\n",
      "RangeIndex: 8693 entries, 0 to 8692\n",
      "Data columns (total 14 columns):\n",
      " #   Column        Non-Null Count  Dtype  \n",
      "---  ------        --------------  -----  \n",
      " 0   PassengerId   8693 non-null   object \n",
      " 1   HomePlanet    8492 non-null   object \n",
      " 2   CryoSleep     8476 non-null   object \n",
      " 3   Cabin         8494 non-null   object \n",
      " 4   Destination   8511 non-null   object \n",
      " 5   Age           8514 non-null   float64\n",
      " 6   VIP           8490 non-null   object \n",
      " 7   RoomService   8512 non-null   float64\n",
      " 8   FoodCourt     8510 non-null   float64\n",
      " 9   ShoppingMall  8485 non-null   float64\n",
      " 10  Spa           8510 non-null   float64\n",
      " 11  VRDeck        8505 non-null   float64\n",
      " 12  Name          8493 non-null   object \n",
      " 13  Transported   8693 non-null   bool   \n",
      "dtypes: bool(1), float64(6), object(7)\n",
      "memory usage: 891.5+ KB\n"
     ]
    }
   ],
   "source": [
    "# Basic info about the data\n",
    "train.info()"
   ]
  },
  {
   "cell_type": "code",
   "execution_count": 390,
   "id": "c553194b",
   "metadata": {},
   "outputs": [
    {
     "data": {
      "text/html": [
       "<div>\n",
       "<style scoped>\n",
       "    .dataframe tbody tr th:only-of-type {\n",
       "        vertical-align: middle;\n",
       "    }\n",
       "\n",
       "    .dataframe tbody tr th {\n",
       "        vertical-align: top;\n",
       "    }\n",
       "\n",
       "    .dataframe thead th {\n",
       "        text-align: right;\n",
       "    }\n",
       "</style>\n",
       "<table border=\"1\" class=\"dataframe\">\n",
       "  <thead>\n",
       "    <tr style=\"text-align: right;\">\n",
       "      <th></th>\n",
       "      <th>Age</th>\n",
       "      <th>RoomService</th>\n",
       "      <th>FoodCourt</th>\n",
       "      <th>ShoppingMall</th>\n",
       "      <th>Spa</th>\n",
       "      <th>VRDeck</th>\n",
       "    </tr>\n",
       "  </thead>\n",
       "  <tbody>\n",
       "    <tr>\n",
       "      <th>count</th>\n",
       "      <td>8514.000000</td>\n",
       "      <td>8512.000000</td>\n",
       "      <td>8510.000000</td>\n",
       "      <td>8485.000000</td>\n",
       "      <td>8510.000000</td>\n",
       "      <td>8505.000000</td>\n",
       "    </tr>\n",
       "    <tr>\n",
       "      <th>mean</th>\n",
       "      <td>28.827930</td>\n",
       "      <td>224.687617</td>\n",
       "      <td>458.077203</td>\n",
       "      <td>173.729169</td>\n",
       "      <td>311.138778</td>\n",
       "      <td>304.854791</td>\n",
       "    </tr>\n",
       "    <tr>\n",
       "      <th>std</th>\n",
       "      <td>14.489021</td>\n",
       "      <td>666.717663</td>\n",
       "      <td>1611.489240</td>\n",
       "      <td>604.696458</td>\n",
       "      <td>1136.705535</td>\n",
       "      <td>1145.717189</td>\n",
       "    </tr>\n",
       "    <tr>\n",
       "      <th>min</th>\n",
       "      <td>0.000000</td>\n",
       "      <td>0.000000</td>\n",
       "      <td>0.000000</td>\n",
       "      <td>0.000000</td>\n",
       "      <td>0.000000</td>\n",
       "      <td>0.000000</td>\n",
       "    </tr>\n",
       "    <tr>\n",
       "      <th>25%</th>\n",
       "      <td>19.000000</td>\n",
       "      <td>0.000000</td>\n",
       "      <td>0.000000</td>\n",
       "      <td>0.000000</td>\n",
       "      <td>0.000000</td>\n",
       "      <td>0.000000</td>\n",
       "    </tr>\n",
       "    <tr>\n",
       "      <th>50%</th>\n",
       "      <td>27.000000</td>\n",
       "      <td>0.000000</td>\n",
       "      <td>0.000000</td>\n",
       "      <td>0.000000</td>\n",
       "      <td>0.000000</td>\n",
       "      <td>0.000000</td>\n",
       "    </tr>\n",
       "    <tr>\n",
       "      <th>75%</th>\n",
       "      <td>38.000000</td>\n",
       "      <td>47.000000</td>\n",
       "      <td>76.000000</td>\n",
       "      <td>27.000000</td>\n",
       "      <td>59.000000</td>\n",
       "      <td>46.000000</td>\n",
       "    </tr>\n",
       "    <tr>\n",
       "      <th>max</th>\n",
       "      <td>79.000000</td>\n",
       "      <td>14327.000000</td>\n",
       "      <td>29813.000000</td>\n",
       "      <td>23492.000000</td>\n",
       "      <td>22408.000000</td>\n",
       "      <td>24133.000000</td>\n",
       "    </tr>\n",
       "  </tbody>\n",
       "</table>\n",
       "</div>"
      ],
      "text/plain": [
       "               Age   RoomService     FoodCourt  ShoppingMall           Spa  \\\n",
       "count  8514.000000   8512.000000   8510.000000   8485.000000   8510.000000   \n",
       "mean     28.827930    224.687617    458.077203    173.729169    311.138778   \n",
       "std      14.489021    666.717663   1611.489240    604.696458   1136.705535   \n",
       "min       0.000000      0.000000      0.000000      0.000000      0.000000   \n",
       "25%      19.000000      0.000000      0.000000      0.000000      0.000000   \n",
       "50%      27.000000      0.000000      0.000000      0.000000      0.000000   \n",
       "75%      38.000000     47.000000     76.000000     27.000000     59.000000   \n",
       "max      79.000000  14327.000000  29813.000000  23492.000000  22408.000000   \n",
       "\n",
       "             VRDeck  \n",
       "count   8505.000000  \n",
       "mean     304.854791  \n",
       "std     1145.717189  \n",
       "min        0.000000  \n",
       "25%        0.000000  \n",
       "50%        0.000000  \n",
       "75%       46.000000  \n",
       "max    24133.000000  "
      ]
     },
     "execution_count": 390,
     "metadata": {},
     "output_type": "execute_result"
    }
   ],
   "source": [
    "# Descriptive statistics about the data\n",
    "train.describe()"
   ]
  },
  {
   "cell_type": "code",
   "execution_count": 391,
   "id": "c6bf7396",
   "metadata": {},
   "outputs": [
    {
     "data": {
      "text/plain": [
       "PassengerId     False\n",
       "HomePlanet       True\n",
       "CryoSleep        True\n",
       "Cabin            True\n",
       "Destination      True\n",
       "Age              True\n",
       "VIP              True\n",
       "RoomService      True\n",
       "FoodCourt        True\n",
       "ShoppingMall     True\n",
       "Spa              True\n",
       "VRDeck           True\n",
       "Name             True\n",
       "Transported     False\n",
       "dtype: bool"
      ]
     },
     "execution_count": 391,
     "metadata": {},
     "output_type": "execute_result"
    }
   ],
   "source": [
    "# Check for missing values\n",
    "train.isna().any()"
   ]
  },
  {
   "cell_type": "markdown",
   "id": "65b365b7",
   "metadata": {},
   "source": [
    "There are too many columns with missing values. They needed to be checked with the ratio of missing values / total and decide wheter to assign them a value or delete them."
   ]
  },
  {
   "cell_type": "code",
   "execution_count": 392,
   "id": "a7ce2d31",
   "metadata": {},
   "outputs": [
    {
     "data": {
      "text/plain": [
       "False"
      ]
     },
     "execution_count": 392,
     "metadata": {},
     "output_type": "execute_result"
    }
   ],
   "source": [
    "# Check for duplicate values\n",
    "train.duplicated().any()"
   ]
  },
  {
   "cell_type": "markdown",
   "id": "da34830d",
   "metadata": {},
   "source": [
    "There are no duplicated values in the data"
   ]
  },
  {
   "cell_type": "markdown",
   "id": "018b9e4e",
   "metadata": {},
   "source": [
    "## Handling Missing Values\n",
    "\n",
    "- Finding the percentage of missing values for each feature\n",
    "- Decide what to do with them"
   ]
  },
  {
   "cell_type": "code",
   "execution_count": 393,
   "id": "b24eea1c",
   "metadata": {},
   "outputs": [
    {
     "data": {
      "text/plain": [
       "PassengerId     0.000000\n",
       "HomePlanet      2.312205\n",
       "CryoSleep       2.496261\n",
       "Cabin           2.289198\n",
       "Destination     2.093639\n",
       "Age             2.059128\n",
       "VIP             2.335212\n",
       "RoomService     2.082135\n",
       "FoodCourt       2.105142\n",
       "ShoppingMall    2.392730\n",
       "Spa             2.105142\n",
       "VRDeck          2.162660\n",
       "Name            2.300702\n",
       "Transported     0.000000\n",
       "dtype: float64"
      ]
     },
     "execution_count": 393,
     "metadata": {},
     "output_type": "execute_result"
    }
   ],
   "source": [
    "# Finding missing value ratio for each feature\n",
    "(train.isna().sum() / len(train)) * 100"
   ]
  },
  {
   "cell_type": "markdown",
   "id": "6556cd8b",
   "metadata": {},
   "source": [
    "There are rows that 2% of the data is missing. If this rows are going to be deleted, the percentage of missing values will be increase."
   ]
  },
  {
   "cell_type": "code",
   "execution_count": 394,
   "id": "dc13b11d",
   "metadata": {},
   "outputs": [
    {
     "data": {
      "text/html": [
       "<div>\n",
       "<style scoped>\n",
       "    .dataframe tbody tr th:only-of-type {\n",
       "        vertical-align: middle;\n",
       "    }\n",
       "\n",
       "    .dataframe tbody tr th {\n",
       "        vertical-align: top;\n",
       "    }\n",
       "\n",
       "    .dataframe thead th {\n",
       "        text-align: right;\n",
       "    }\n",
       "</style>\n",
       "<table border=\"1\" class=\"dataframe\">\n",
       "  <thead>\n",
       "    <tr style=\"text-align: right;\">\n",
       "      <th></th>\n",
       "      <th>PassengerId</th>\n",
       "      <th>HomePlanet</th>\n",
       "      <th>CryoSleep</th>\n",
       "      <th>Cabin</th>\n",
       "      <th>Destination</th>\n",
       "      <th>Age</th>\n",
       "      <th>VIP</th>\n",
       "      <th>RoomService</th>\n",
       "      <th>FoodCourt</th>\n",
       "      <th>ShoppingMall</th>\n",
       "      <th>Spa</th>\n",
       "      <th>VRDeck</th>\n",
       "      <th>Name</th>\n",
       "      <th>Transported</th>\n",
       "    </tr>\n",
       "  </thead>\n",
       "  <tbody>\n",
       "    <tr>\n",
       "      <th>7</th>\n",
       "      <td>0006_02</td>\n",
       "      <td>Earth</td>\n",
       "      <td>True</td>\n",
       "      <td>G/0/S</td>\n",
       "      <td>TRAPPIST-1e</td>\n",
       "      <td>28.0</td>\n",
       "      <td>False</td>\n",
       "      <td>0.0</td>\n",
       "      <td>0.0</td>\n",
       "      <td>0.0</td>\n",
       "      <td>0.0</td>\n",
       "      <td>NaN</td>\n",
       "      <td>Candra Jacostaffey</td>\n",
       "      <td>True</td>\n",
       "    </tr>\n",
       "    <tr>\n",
       "      <th>9</th>\n",
       "      <td>0008_01</td>\n",
       "      <td>Europa</td>\n",
       "      <td>True</td>\n",
       "      <td>B/1/P</td>\n",
       "      <td>55 Cancri e</td>\n",
       "      <td>14.0</td>\n",
       "      <td>False</td>\n",
       "      <td>0.0</td>\n",
       "      <td>0.0</td>\n",
       "      <td>0.0</td>\n",
       "      <td>0.0</td>\n",
       "      <td>0.0</td>\n",
       "      <td>Erraiam Flatic</td>\n",
       "      <td>True</td>\n",
       "    </tr>\n",
       "    <tr>\n",
       "      <th>10</th>\n",
       "      <td>0008_02</td>\n",
       "      <td>Europa</td>\n",
       "      <td>True</td>\n",
       "      <td>B/1/P</td>\n",
       "      <td>TRAPPIST-1e</td>\n",
       "      <td>34.0</td>\n",
       "      <td>False</td>\n",
       "      <td>0.0</td>\n",
       "      <td>0.0</td>\n",
       "      <td>NaN</td>\n",
       "      <td>0.0</td>\n",
       "      <td>0.0</td>\n",
       "      <td>Altardr Flatic</td>\n",
       "      <td>True</td>\n",
       "    </tr>\n",
       "    <tr>\n",
       "      <th>18</th>\n",
       "      <td>0016_01</td>\n",
       "      <td>Mars</td>\n",
       "      <td>True</td>\n",
       "      <td>F/5/P</td>\n",
       "      <td>TRAPPIST-1e</td>\n",
       "      <td>45.0</td>\n",
       "      <td>False</td>\n",
       "      <td>0.0</td>\n",
       "      <td>0.0</td>\n",
       "      <td>0.0</td>\n",
       "      <td>0.0</td>\n",
       "      <td>0.0</td>\n",
       "      <td>Alus Upead</td>\n",
       "      <td>True</td>\n",
       "    </tr>\n",
       "    <tr>\n",
       "      <th>21</th>\n",
       "      <td>0020_01</td>\n",
       "      <td>Earth</td>\n",
       "      <td>True</td>\n",
       "      <td>E/0/S</td>\n",
       "      <td>TRAPPIST-1e</td>\n",
       "      <td>1.0</td>\n",
       "      <td>False</td>\n",
       "      <td>0.0</td>\n",
       "      <td>0.0</td>\n",
       "      <td>0.0</td>\n",
       "      <td>0.0</td>\n",
       "      <td>0.0</td>\n",
       "      <td>Almary Brantuarez</td>\n",
       "      <td>False</td>\n",
       "    </tr>\n",
       "  </tbody>\n",
       "</table>\n",
       "</div>"
      ],
      "text/plain": [
       "   PassengerId HomePlanet CryoSleep  Cabin  Destination   Age    VIP  \\\n",
       "7      0006_02      Earth      True  G/0/S  TRAPPIST-1e  28.0  False   \n",
       "9      0008_01     Europa      True  B/1/P  55 Cancri e  14.0  False   \n",
       "10     0008_02     Europa      True  B/1/P  TRAPPIST-1e  34.0  False   \n",
       "18     0016_01       Mars      True  F/5/P  TRAPPIST-1e  45.0  False   \n",
       "21     0020_01      Earth      True  E/0/S  TRAPPIST-1e   1.0  False   \n",
       "\n",
       "    RoomService  FoodCourt  ShoppingMall  Spa  VRDeck                Name  \\\n",
       "7           0.0        0.0           0.0  0.0     NaN  Candra Jacostaffey   \n",
       "9           0.0        0.0           0.0  0.0     0.0      Erraiam Flatic   \n",
       "10          0.0        0.0           NaN  0.0     0.0      Altardr Flatic   \n",
       "18          0.0        0.0           0.0  0.0     0.0          Alus Upead   \n",
       "21          0.0        0.0           0.0  0.0     0.0   Almary Brantuarez   \n",
       "\n",
       "    Transported  \n",
       "7          True  \n",
       "9          True  \n",
       "10         True  \n",
       "18         True  \n",
       "21        False  "
      ]
     },
     "execution_count": 394,
     "metadata": {},
     "output_type": "execute_result"
    }
   ],
   "source": [
    "train[train['CryoSleep'] == True].head()"
   ]
  },
  {
   "cell_type": "markdown",
   "id": "37f28b5a",
   "metadata": {},
   "source": [
    "There is a correlation between 'CryoSleep' and services. Logically, if a person's travel is within the CryoSleep he/she can't reach those services. So, I will make these services's amount 0 if that person's travel is within the CryoSleep. This will help to fill some nan values"
   ]
  },
  {
   "cell_type": "code",
   "execution_count": 395,
   "id": "56a3a6bf",
   "metadata": {},
   "outputs": [],
   "source": [
    "train.loc[train['CryoSleep'] == True, ['RoomService', 'FoodCourt', 'ShoppingMall', 'Spa', 'VRDeck']] = 0"
   ]
  },
  {
   "cell_type": "markdown",
   "id": "e6822677",
   "metadata": {},
   "source": [
    "This change on luxury columns decreased the amount of missing values on 1% average. We can also change the missing values on age with the median age to use these rows information also."
   ]
  },
  {
   "cell_type": "code",
   "execution_count": 396,
   "id": "a6bf7cc2",
   "metadata": {},
   "outputs": [],
   "source": [
    "train.loc[train['Age'].isna(), 'Age'] = train['Age'].mean()"
   ]
  },
  {
   "cell_type": "markdown",
   "id": "32465c6c",
   "metadata": {},
   "source": [
    "We can delete the 'name' column. I don't think a space anomaly hits the people with the similar name. There is no direct cause and effect relationship."
   ]
  },
  {
   "cell_type": "code",
   "execution_count": 397,
   "id": "e4196307",
   "metadata": {},
   "outputs": [],
   "source": [
    "train = train.drop('Name', axis=1)"
   ]
  },
  {
   "cell_type": "markdown",
   "id": "704ca611",
   "metadata": {},
   "source": [
    "There is nothing to do with the missing values left. They needed to be deleted from the dataset."
   ]
  },
  {
   "cell_type": "code",
   "execution_count": 398,
   "id": "e12a69bf",
   "metadata": {},
   "outputs": [],
   "source": [
    "train = train.dropna()"
   ]
  },
  {
   "cell_type": "code",
   "execution_count": 399,
   "id": "4f3b299d",
   "metadata": {},
   "outputs": [
    {
     "data": {
      "text/plain": [
       "PassengerId     0.0\n",
       "HomePlanet      0.0\n",
       "CryoSleep       0.0\n",
       "Cabin           0.0\n",
       "Destination     0.0\n",
       "Age             0.0\n",
       "VIP             0.0\n",
       "RoomService     0.0\n",
       "FoodCourt       0.0\n",
       "ShoppingMall    0.0\n",
       "Spa             0.0\n",
       "VRDeck          0.0\n",
       "Transported     0.0\n",
       "dtype: float64"
      ]
     },
     "execution_count": 399,
     "metadata": {},
     "output_type": "execute_result"
    }
   ],
   "source": [
    "# Check the missing value ratio again\n",
    "(train.isna().sum() / len(train)) * 100"
   ]
  },
  {
   "cell_type": "code",
   "execution_count": 400,
   "id": "704d1c3b",
   "metadata": {},
   "outputs": [],
   "source": [
    "train = train.reset_index(drop=True)"
   ]
  },
  {
   "cell_type": "markdown",
   "id": "ce084ab2",
   "metadata": {},
   "source": [
    "## Feature Engineering\n",
    "\n",
    "New feature needs to be created for training the data. Features will be created on following types:\n",
    "- location: location of the passanger. three columns --> deck, num, side. Maybe disaster hitted the certain location.\n",
    "- group: what is the passenger's group? Maybe there are certain group's effected from the disaster.\n",
    "- time_spent: time spent for each location. room, food court, shoping mall, spa, vrdeck.\n",
    "- age_group: maybe certain age groups are effected from the disaster.\n",
    "\n",
    "some features will remain untouched. these are:\n",
    "- home_planet\n",
    "- destination"
   ]
  },
  {
   "cell_type": "markdown",
   "id": "f6b072e0",
   "metadata": {},
   "source": [
    "### Group"
   ]
  },
  {
   "cell_type": "code",
   "execution_count": 401,
   "id": "1f2ce653",
   "metadata": {},
   "outputs": [],
   "source": [
    "# Function to split group from passenger id\n",
    "def split_group(passenger_id: str):\n",
    "    return passenger_id.split('_')[0]"
   ]
  },
  {
   "cell_type": "code",
   "execution_count": 402,
   "id": "00154097",
   "metadata": {},
   "outputs": [],
   "source": [
    "# Create the group feature\n",
    "train['group'] = train['PassengerId'].apply(split_group)"
   ]
  },
  {
   "cell_type": "markdown",
   "id": "01b7bb09",
   "metadata": {},
   "source": [
    "### Location"
   ]
  },
  {
   "cell_type": "code",
   "execution_count": 403,
   "id": "a5d7c9ab",
   "metadata": {},
   "outputs": [],
   "source": [
    "# Values to hold location parts\n",
    "deck, num, side = [], [], []\n",
    "\n",
    "# Function to split deck part from cabin\n",
    "def split_cabin(cabin: str):\n",
    "    splitted_cabin = cabin.split('/')\n",
    "    deck.append(splitted_cabin[0])\n",
    "    num.append(splitted_cabin[1])\n",
    "    side.append(splitted_cabin[2])\n",
    "    \n",
    "train['Cabin'].apply(split_cabin)\n",
    "train['deck'] = deck\n",
    "train['num'] = num\n",
    "train['side'] = side"
   ]
  },
  {
   "cell_type": "markdown",
   "id": "51fff0a5",
   "metadata": {},
   "source": [
    "### Time Spent\n",
    "There is a direct relationship between spent money and spent time on a place. If you spent so much money on a shopping mall, we can say that the time spent on a shopping mall is high. If you did not spent any money at the shopping mall, most likely you did not go to the shopping mall.\n",
    "\n",
    "I will map the time spent time for location to location with [0, 1, 2, 3, 4]  --> [no, low, medium, high]. To find luxury location time spent I will map the time spent according to the quantiles, amount of money spent on there and group the time spent according to it. For room_time_spent if a person's travel is within the CryoSleep then I will mark it to highest one, if not it will be based on the room service amount. At lowest, it will be start at 2 (if we think person is sleeping on the room). Amount of room service will increase the time_spent_room."
   ]
  },
  {
   "cell_type": "code",
   "execution_count": 404,
   "id": "57727c82",
   "metadata": {},
   "outputs": [
    {
     "data": {
      "image/png": "[encoded data removed]",
      "text/plain": [
       "<Figure size 1600x900 with 1 Axes>"
      ]
     },
     "metadata": {},
     "output_type": "display_data"
    }
   ],
   "source": [
    "# Spent time visualization on food court\n",
    "plt.figure(figsize=(16, 9))\n",
    "sns.scatterplot(data=train.sort_values(by=['FoodCourt']), x=np.arange(len(train)), y='FoodCourt', alpha=0.4)\n",
    "plt.axvline(x=6653, color='red', label='High Thresh.', ls='--')\n",
    "plt.axvline(x=6051, color='blue', label='Medium Thresh.', ls='--')\n",
    "plt.axvline(x=4755, color='green', label='Low Thresh.', ls='--')  # First > 0 value\n",
    "plt.legend(labels=['Spending', 'High Tresh.', 'Medium Tresh.', 'Low Tresh.'])\n",
    "plt.title('Sorted Food Court Spendings', fontsize='14');"
   ]
  },
  {
   "cell_type": "code",
   "execution_count": 509,
   "id": "f83cf60e",
   "metadata": {},
   "outputs": [],
   "source": [
    "# Masks for time spent at food court\n",
    "sorted_values = sorted(train['FoodCourt'])\n",
    "\n",
    "high_time = train['FoodCourt'] >= sorted_values[6653]\n",
    "medium_time = (train['FoodCourt'] >= sorted_values[6051]) & (train['FoodCourt'].values < sorted_values[6653])\n",
    "low_time = (train['FoodCourt'] > 0) & (train['FoodCourt'] < sorted_values[6051])\n",
    "no_time = train['FoodCourt'] == 0\n",
    "\n",
    "# Feature generation\n",
    "train['time_spent_foodcourt'] = np.where(high_time, 3,\n",
    "                                            np.where(medium_time, 2,\n",
    "                                                    np.where(low_time, 1,\n",
    "                                                            np.where(no_time, 0, np.nan))))"
   ]
  },
  {
   "cell_type": "code",
   "execution_count": 406,
   "id": "43875f17",
   "metadata": {},
   "outputs": [
    {
     "data": {
      "image/png": "[encoded data removed]",
      "text/plain": [
       "<Figure size 1600x900 with 1 Axes>"
      ]
     },
     "metadata": {},
     "output_type": "display_data"
    }
   ],
   "source": [
    "# Spent time visualization on shopping mall\n",
    "plt.figure(figsize=(16, 9))\n",
    "sns.scatterplot(data=train.sort_values(by=['ShoppingMall']), x=np.arange(len(train)), y='ShoppingMall', alpha=0.4)\n",
    "plt.axvline(x=6800, color='red', label='High Thresh.', ls='--')\n",
    "plt.axvline(x=6000, color='blue', label='Medium Thresh.', ls='--')\n",
    "plt.axvline(x=4856, color='green', label='Low Thresh.', ls='--')  # First > 0 value\n",
    "plt.legend(labels=['Spending', 'High Thresh.', 'Medium Thresh.', 'Low Thresh.'])\n",
    "plt.title('Sorted Shoping Mall Spendings', fontsize='14');"
   ]
  },
  {
   "cell_type": "code",
   "execution_count": 512,
   "id": "a4bb491a",
   "metadata": {},
   "outputs": [],
   "source": [
    "# Masks for time spent at shopping mall\n",
    "sorted_values = sorted(train['ShoppingMall'])\n",
    "\n",
    "high_time = train['ShoppingMall'] >= sorted_values[6800]\n",
    "medium_time = (train['ShoppingMall'] >= sorted_values[6000]) & (train['ShoppingMall'].values < sorted_values[6800])\n",
    "low_time = (train['ShoppingMall'] > 0) & (train['ShoppingMall'] < sorted_values[6000])\n",
    "no_time = train['ShoppingMall'] == 0\n",
    "\n",
    "# Feature generation\n",
    "train['time_spent_shoppingmall'] = np.where(high_time, 3,\n",
    "                                            np.where(medium_time, 2,\n",
    "                                                    np.where(low_time, 1,\n",
    "                                                            np.where(no_time, 0, np.nan))))"
   ]
  },
  {
   "cell_type": "code",
   "execution_count": 408,
   "id": "ceb92417",
   "metadata": {},
   "outputs": [
    {
     "data": {
      "image/png": "[encoded data removed]",
      "text/plain": [
       "<Figure size 1600x900 with 1 Axes>"
      ]
     },
     "metadata": {},
     "output_type": "display_data"
    }
   ],
   "source": [
    "# Spent time visualization on spa\n",
    "plt.figure(figsize=(16, 9))\n",
    "sns.scatterplot(data=train.sort_values(by=['Spa']), x=np.arange(len(train)), y='Spa', alpha=0.4)\n",
    "plt.axvline(x=6700, color='red', label='High Thresh.', ls='--')\n",
    "plt.axvline(x=6100, color='blue', label='Medium Thresh.', ls='--')\n",
    "plt.axvline(x=4620, color='green', label='Low Thresh.', ls='--')  # First > 0 value\n",
    "plt.legend(labels=['Spending', 'High Thresh.', 'Medium Thresh.', 'Low Thresh.'])\n",
    "plt.title('Sorted Spa Spendings', fontsize='14');"
   ]
  },
  {
   "cell_type": "code",
   "execution_count": 516,
   "id": "0cd322ba",
   "metadata": {},
   "outputs": [],
   "source": [
    "# Masks for time spent at spa\n",
    "sorted_values = sorted(train['Spa'])\n",
    "\n",
    "high_time = train['Spa'] >= sorted_values[6700]\n",
    "medium_time = (train['Spa'] >= sorted_values[6100]) & (train['Spa'] < sorted_values[6700])\n",
    "low_time = (train['Spa'] > 0) & (train['Spa'] < sorted_values[6100])\n",
    "no_time = train['Spa'] == 0\n",
    "\n",
    "# Feature generation\n",
    "train['time_spent_spa'] = np.where(high_time, 3,\n",
    "                                            np.where(medium_time, 2,\n",
    "                                                    np.where(low_time, 1,\n",
    "                                                            np.where(no_time, 0, np.nan))))"
   ]
  },
  {
   "cell_type": "code",
   "execution_count": 410,
   "id": "97d69e49",
   "metadata": {
    "scrolled": false
   },
   "outputs": [
    {
     "data": {
      "image/png": "[encoded data removed]",
      "text/plain": [
       "<Figure size 1600x900 with 1 Axes>"
      ]
     },
     "metadata": {},
     "output_type": "display_data"
    }
   ],
   "source": [
    "# Spent time visualization on vr deck\n",
    "plt.figure(figsize=(16, 9))\n",
    "sns.scatterplot(data=train.sort_values(by=['VRDeck']), x=np.arange(len(train)), y='VRDeck', alpha=0.4)\n",
    "plt.axvline(x=6700, color='red', label='High Thresh.', ls='--')\n",
    "plt.axvline(x=5900, color='blue', label='Medium Thresh.', ls='--')\n",
    "plt.axvline(x=4760, color='green', label='Low Thresh.', ls='--')  # First > 0 value\n",
    "plt.legend(labels=['Spending', 'High Thresh.', 'Medium Thresh.', 'Low Thresh.'])\n",
    "plt.title('Sorted VRDeck Spendings', fontsize='14');"
   ]
  },
  {
   "cell_type": "code",
   "execution_count": 520,
   "id": "9b5cc155",
   "metadata": {},
   "outputs": [],
   "source": [
    "# Masks for time spent at vr deck\n",
    "sorted_values = sorted(train['VRDeck'])\n",
    "\n",
    "high_time = train['VRDeck'] >= sorted_values[6700]\n",
    "medium_time = (train['VRDeck'] >= sorted_values[5900]) & (train['VRDeck'] < sorted_values[6700])\n",
    "low_time = (train['VRDeck'] > 0) & (train['VRDeck'] < sorted_values[5900])\n",
    "no_time = train['VRDeck'] == 0\n",
    "\n",
    "# Feature generation\n",
    "train['time_spent_vrdeck'] = np.where(high_time, 3,\n",
    "                                            np.where(medium_time, 2,\n",
    "                                                    np.where(low_time, 1,\n",
    "                                                            np.where(no_time, 0, np.nan))))"
   ]
  },
  {
   "cell_type": "code",
   "execution_count": 412,
   "id": "65824dbb",
   "metadata": {},
   "outputs": [
    {
     "data": {
      "image/png": "[encoded data removed]",
      "text/plain": [
       "<Figure size 1600x900 with 1 Axes>"
      ]
     },
     "metadata": {},
     "output_type": "display_data"
    }
   ],
   "source": [
    "# Spent time on room\n",
    "plt.figure(figsize=(16, 9))\n",
    "sns.scatterplot(data=train.sort_values(by=['RoomService']), x=np.arange(len(train)), y='RoomService', alpha=0.4)\n",
    "plt.axvline(x=6700, color='red', label='High Thresh.', ls='--')\n",
    "plt.axvline(x=6000, color='blue', label='Medium Thresh.', ls='--')\n",
    "plt.axvline(x=4843, color='green', label='Low Thresh.', ls='--')  # First > 0 value\n",
    "plt.legend(labels=['Spending', 'High Thresh.', 'Medium Thresh.', 'Low Thresh.'])\n",
    "plt.title('Sorted RoomService Spendings', fontsize='14');"
   ]
  },
  {
   "cell_type": "code",
   "execution_count": 523,
   "id": "b30fbd0a",
   "metadata": {},
   "outputs": [],
   "source": [
    "# Masks for time spent at room deck\n",
    "sorted_values = sorted(train['RoomService'])\n",
    "\n",
    "high_time = train['RoomService'] >= sorted_values[6700]\n",
    "medium_time = (train['RoomService'] >= sorted_values[6000]) & (train['RoomService'] < sorted_values[6700])\n",
    "low_time = (train['RoomService'] >= 0) & (train['RoomService'] < sorted_values[6000])\n",
    "\n",
    "# Feature generation\n",
    "train['time_spent_room'] = np.where(high_time, 2,\n",
    "                                            np.where(medium_time, 1,\n",
    "                                                        np.where(low_time, 0, np.nan)))"
   ]
  },
  {
   "cell_type": "code",
   "execution_count": 414,
   "id": "0dcd0931",
   "metadata": {},
   "outputs": [],
   "source": [
    "# Make the passengers which travels within cyrosleep 3, the highest time spent at the room\n",
    "train.loc[train['CryoSleep'] == True, 'RoomService'] = 3"
   ]
  },
  {
   "cell_type": "code",
   "execution_count": 423,
   "id": "80ad9714",
   "metadata": {},
   "outputs": [],
   "source": [
    "# Age grouping\n",
    "old = train['Age'] >= 65\n",
    "medium = (train['Age'] >= 30) & (train['Age'] < 65)\n",
    "young = (train['Age'] >= 12) & (train['Age'] < 30)\n",
    "child = train['Age'] < 12\n",
    "\n",
    "# Feature generation\n",
    "train['age_group'] = np.where(old, 3,\n",
    "                                    np.where(medium, 2,\n",
    "                                             np.where(young, 1, \n",
    "                                                      np.where(child, 0, np.nan))))"
   ]
  },
  {
   "cell_type": "code",
   "execution_count": 422,
   "id": "3a7a3a79",
   "metadata": {},
   "outputs": [],
   "source": [
    "# Destination grouping\n",
    "# TRAPPIST-1e -->0, PSO J318.5-22 --> 1, 55 Cancri e --> 2\n",
    "# Feature generation\n",
    "train['destination_group'] = np.where(train['Destination'] == 'TRAPPIST-1e', 0,\n",
    "                                    np.where(train['Destination'] == 'PSO J318.5-22', 1,\n",
    "                                                 np.where(train['Destination'] == '55 Cancri e', 2, np.nan)))"
   ]
  },
  {
   "cell_type": "code",
   "execution_count": 426,
   "id": "1a31e60b",
   "metadata": {},
   "outputs": [],
   "source": [
    "# Home planet grouping\n",
    "# TRAPPIST-1e -->0, PSO J318.5-22 --> 1, 55 Cancri e --> 2\n",
    "# Feature generation\n",
    "train['home_group'] = np.where(train['HomePlanet'] == 'Europa', 0,\n",
    "                                    np.where(train['HomePlanet'] == 'Earth', 1,\n",
    "                                                 np.where(train['HomePlanet'] == 'Mars', 2, np.nan)))"
   ]
  },
  {
   "cell_type": "code",
   "execution_count": 428,
   "id": "f6d9943b",
   "metadata": {},
   "outputs": [],
   "source": [
    "# Transported numerization\n",
    "train['transported'] = np.where(train['Transported'] == True, 1,\n",
    "                                    np.where(train['Transported'] == False, 0, np.nan))"
   ]
  },
  {
   "cell_type": "code",
   "execution_count": 436,
   "id": "db6101c0",
   "metadata": {},
   "outputs": [],
   "source": [
    "# Deck numerization\n",
    "train['deck'] = np.where(train['deck'] == 'A', 0,\n",
    "                                    np.where(train['deck'] == 'B', 1, \n",
    "                                             np.where(train['deck'] == 'C', 2, \n",
    "                                                      np.where(train['deck'] == 'D', 3, \n",
    "                                                               np.where(train['deck'] == 'E', 4, \n",
    "                                                                        np.where(train['deck'] == 'F', 5, \n",
    "                                                                                 np.where(train['deck'] == 'G', 6, \n",
    "                                                                                          np.where(train['deck'] == 'T', 7, np.nan))))))))"
   ]
  },
  {
   "cell_type": "code",
   "execution_count": 439,
   "id": "7fe35fb4",
   "metadata": {},
   "outputs": [],
   "source": [
    "# Side numerization\n",
    "train['side'] = np.where(train['side'] == 'S', 0,\n",
    "                                    np.where(train['side'] == 'P', 1, np.nan))"
   ]
  },
  {
   "cell_type": "markdown",
   "id": "b5ad0e0f",
   "metadata": {},
   "source": [
    "# Model Training\n",
    "\n",
    "Now we have features. We can train a model and predict the output. We can't identify the best model directly. I will try three models."
   ]
  },
  {
   "cell_type": "markdown",
   "id": "b1f261ab",
   "metadata": {},
   "source": [
    "## Logistic Regression"
   ]
  },
  {
   "cell_type": "code",
   "execution_count": 449,
   "id": "6cc85927",
   "metadata": {},
   "outputs": [],
   "source": [
    "X = train[['group', 'deck', 'num', 'side', 'time_spent_foodcourt', 'time_spent_shoppingmall', \n",
    "           'time_spent_spa', 'time_spent_vrdeck', 'age_group', 'destination_group', 'home_group']].astype(int)"
   ]
  },
  {
   "cell_type": "code",
   "execution_count": 450,
   "id": "11e760f5",
   "metadata": {},
   "outputs": [
    {
     "data": {
      "text/html": [
       "<div>\n",
       "<style scoped>\n",
       "    .dataframe tbody tr th:only-of-type {\n",
       "        vertical-align: middle;\n",
       "    }\n",
       "\n",
       "    .dataframe tbody tr th {\n",
       "        vertical-align: top;\n",
       "    }\n",
       "\n",
       "    .dataframe thead th {\n",
       "        text-align: right;\n",
       "    }\n",
       "</style>\n",
       "<table border=\"1\" class=\"dataframe\">\n",
       "  <thead>\n",
       "    <tr style=\"text-align: right;\">\n",
       "      <th></th>\n",
       "      <th>group</th>\n",
       "      <th>deck</th>\n",
       "      <th>num</th>\n",
       "      <th>side</th>\n",
       "      <th>time_spent_foodcourt</th>\n",
       "      <th>time_spent_shoppingmall</th>\n",
       "      <th>time_spent_spa</th>\n",
       "      <th>time_spent_vrdeck</th>\n",
       "      <th>age_group</th>\n",
       "      <th>destination_group</th>\n",
       "      <th>home_group</th>\n",
       "    </tr>\n",
       "  </thead>\n",
       "  <tbody>\n",
       "    <tr>\n",
       "      <th>0</th>\n",
       "      <td>1</td>\n",
       "      <td>1</td>\n",
       "      <td>0</td>\n",
       "      <td>1</td>\n",
       "      <td>0</td>\n",
       "      <td>0</td>\n",
       "      <td>0</td>\n",
       "      <td>0</td>\n",
       "      <td>2</td>\n",
       "      <td>0</td>\n",
       "      <td>0</td>\n",
       "    </tr>\n",
       "    <tr>\n",
       "      <th>1</th>\n",
       "      <td>2</td>\n",
       "      <td>5</td>\n",
       "      <td>0</td>\n",
       "      <td>0</td>\n",
       "      <td>1</td>\n",
       "      <td>1</td>\n",
       "      <td>2</td>\n",
       "      <td>1</td>\n",
       "      <td>1</td>\n",
       "      <td>0</td>\n",
       "      <td>1</td>\n",
       "    </tr>\n",
       "    <tr>\n",
       "      <th>2</th>\n",
       "      <td>3</td>\n",
       "      <td>0</td>\n",
       "      <td>0</td>\n",
       "      <td>0</td>\n",
       "      <td>3</td>\n",
       "      <td>0</td>\n",
       "      <td>3</td>\n",
       "      <td>1</td>\n",
       "      <td>2</td>\n",
       "      <td>0</td>\n",
       "      <td>0</td>\n",
       "    </tr>\n",
       "    <tr>\n",
       "      <th>3</th>\n",
       "      <td>3</td>\n",
       "      <td>0</td>\n",
       "      <td>0</td>\n",
       "      <td>0</td>\n",
       "      <td>2</td>\n",
       "      <td>2</td>\n",
       "      <td>3</td>\n",
       "      <td>2</td>\n",
       "      <td>2</td>\n",
       "      <td>0</td>\n",
       "      <td>0</td>\n",
       "    </tr>\n",
       "    <tr>\n",
       "      <th>4</th>\n",
       "      <td>4</td>\n",
       "      <td>5</td>\n",
       "      <td>1</td>\n",
       "      <td>0</td>\n",
       "      <td>1</td>\n",
       "      <td>1</td>\n",
       "      <td>2</td>\n",
       "      <td>1</td>\n",
       "      <td>1</td>\n",
       "      <td>0</td>\n",
       "      <td>1</td>\n",
       "    </tr>\n",
       "  </tbody>\n",
       "</table>\n",
       "</div>"
      ],
      "text/plain": [
       "   group  deck  num  side  time_spent_foodcourt  time_spent_shoppingmall  \\\n",
       "0      1     1    0     1                     0                        0   \n",
       "1      2     5    0     0                     1                        1   \n",
       "2      3     0    0     0                     3                        0   \n",
       "3      3     0    0     0                     2                        2   \n",
       "4      4     5    1     0                     1                        1   \n",
       "\n",
       "   time_spent_spa  time_spent_vrdeck  age_group  destination_group  home_group  \n",
       "0               0                  0          2                  0           0  \n",
       "1               2                  1          1                  0           1  \n",
       "2               3                  1          2                  0           0  \n",
       "3               3                  2          2                  0           0  \n",
       "4               2                  1          1                  0           1  "
      ]
     },
     "execution_count": 450,
     "metadata": {},
     "output_type": "execute_result"
    }
   ],
   "source": [
    "X.head()"
   ]
  },
  {
   "cell_type": "code",
   "execution_count": 451,
   "id": "12076faf",
   "metadata": {},
   "outputs": [],
   "source": [
    "y = train['transported'].astype(int)"
   ]
  },
  {
   "cell_type": "code",
   "execution_count": 452,
   "id": "20119086",
   "metadata": {},
   "outputs": [
    {
     "data": {
      "text/plain": [
       "0    0\n",
       "1    1\n",
       "2    0\n",
       "3    0\n",
       "4    1\n",
       "Name: transported, dtype: int32"
      ]
     },
     "execution_count": 452,
     "metadata": {},
     "output_type": "execute_result"
    }
   ],
   "source": [
    "y.head()"
   ]
  },
  {
   "cell_type": "code",
   "execution_count": 461,
   "id": "80a70768",
   "metadata": {},
   "outputs": [],
   "source": [
    "# Train test split\n",
    "X_train, X_test, y_train, y_test = train_test_split(X, y, test_size=0.3, stratify=y, random_state=42)"
   ]
  },
  {
   "cell_type": "code",
   "execution_count": 477,
   "id": "95dba819",
   "metadata": {},
   "outputs": [],
   "source": [
    "# Construct a logistic regression model and fit it to the training dataset\n",
    "log_clf = LogisticRegression(random_state=42, max_iter=500).fit(X_train, y_train)"
   ]
  },
  {
   "cell_type": "code",
   "execution_count": 478,
   "id": "31435a9b",
   "metadata": {},
   "outputs": [],
   "source": [
    "# Use the logistic regression model to get predictions on the test set\n",
    "y_pred = log_clf.predict(X_test)"
   ]
  },
  {
   "cell_type": "code",
   "execution_count": 479,
   "id": "302c8bd3",
   "metadata": {},
   "outputs": [
    {
     "data": {
      "image/png": "[encoded data removed]",
      "text/plain": [
       "<Figure size 640x480 with 2 Axes>"
      ]
     },
     "metadata": {},
     "output_type": "display_data"
    }
   ],
   "source": [
    "# Confusion matrix for visualize results\n",
    "# Compute values for confusion matrix\n",
    "log_cm = confusion_matrix(y_test, y_pred, labels=log_clf.classes_)\n",
    "\n",
    "# Create display of confusion matrix\n",
    "log_disp = ConfusionMatrixDisplay(confusion_matrix=log_cm, \n",
    "                                  display_labels=log_clf.classes_)\n",
    "\n",
    "# Plot confusion matrix\n",
    "log_disp.plot(values_format='')\n",
    "\n",
    "# Display plot\n",
    "plt.show()"
   ]
  },
  {
   "cell_type": "code",
   "execution_count": 480,
   "id": "f1d431a4",
   "metadata": {},
   "outputs": [
    {
     "name": "stdout",
     "output_type": "stream",
     "text": [
      "                             precision    recall  f1-score   support\n",
      "\n",
      "Predicted would not survive       0.76      0.64      0.70      1049\n",
      "    Predicted would survive       0.71      0.81      0.76      1121\n",
      "\n",
      "                   accuracy                           0.73      2170\n",
      "                  macro avg       0.73      0.73      0.73      2170\n",
      "               weighted avg       0.73      0.73      0.73      2170\n",
      "\n"
     ]
    }
   ],
   "source": [
    "# Create classification report for logistic regression model\n",
    "target_names = ['Predicted would not survive', 'Predicted would survive']\n",
    "print(classification_report(y_test, y_pred, target_names=target_names))"
   ]
  },
  {
   "cell_type": "markdown",
   "id": "10993b33",
   "metadata": {},
   "source": [
    "Model performed overall 73% f1-score, precision and recall. This performance can increase with other models"
   ]
  },
  {
   "cell_type": "markdown",
   "id": "21459d09",
   "metadata": {},
   "source": [
    "## Decision Tree"
   ]
  },
  {
   "cell_type": "code",
   "execution_count": 481,
   "id": "53dba001",
   "metadata": {},
   "outputs": [],
   "source": [
    "# Instantiate model\n",
    "tree = DecisionTreeClassifier(random_state=0)\n",
    "\n",
    "# Assign a dictionary of hyperparameters to search over\n",
    "cv_params = {'max_depth':[4, 6, 8, None],\n",
    "             'min_samples_leaf': [2, 3, 4, 5],\n",
    "             'min_samples_split': [2, 4, 6, 8]\n",
    "             }\n",
    "\n",
    "# Assign a dictionary of scoring metrics to capture\n",
    "scoring = ['accuracy', 'precision', 'recall', 'f1', 'roc_auc']\n",
    "\n",
    "# Instantiate GridSearch\n",
    "tree1 = GridSearchCV(tree, cv_params, scoring=scoring, cv=4, refit='roc_auc')"
   ]
  },
  {
   "cell_type": "code",
   "execution_count": 482,
   "id": "012630d3",
   "metadata": {},
   "outputs": [
    {
     "name": "stdout",
     "output_type": "stream",
     "text": [
      "CPU times: total: 11 s\n",
      "Wall time: 11.2 s\n"
     ]
    },
    {
     "data": {
      "text/html": [
       "<style>#sk-container-id-1 {color: black;}#sk-container-id-1 pre{padding: 0;}#sk-container-id-1 div.sk-toggleable {background-color: white;}#sk-container-id-1 label.sk-toggleable__label {cursor: pointer;display: block;width: 100%;margin-bottom: 0;padding: 0.3em;box-sizing: border-box;text-align: center;}#sk-container-id-1 label.sk-toggleable__label-arrow:before {content: \"▸\";float: left;margin-right: 0.25em;color: #696969;}#sk-container-id-1 label.sk-toggleable__label-arrow:hover:before {color: black;}#sk-container-id-1 div.sk-estimator:hover label.sk-toggleable__label-arrow:before {color: black;}#sk-container-id-1 div.sk-toggleable__content {max-height: 0;max-width: 0;overflow: hidden;text-align: left;background-color: #f0f8ff;}#sk-container-id-1 div.sk-toggleable__content pre {margin: 0.2em;color: black;border-radius: 0.25em;background-color: #f0f8ff;}#sk-container-id-1 input.sk-toggleable__control:checked~div.sk-toggleable__content {max-height: 200px;max-width: 100%;overflow: auto;}#sk-container-id-1 input.sk-toggleable__control:checked~label.sk-toggleable__label-arrow:before {content: \"▾\";}#sk-container-id-1 div.sk-estimator input.sk-toggleable__control:checked~label.sk-toggleable__label {background-color: #d4ebff;}#sk-container-id-1 div.sk-label input.sk-toggleable__control:checked~label.sk-toggleable__label {background-color: #d4ebff;}#sk-container-id-1 input.sk-hidden--visually {border: 0;clip: rect(1px 1px 1px 1px);clip: rect(1px, 1px, 1px, 1px);height: 1px;margin: -1px;overflow: hidden;padding: 0;position: absolute;width: 1px;}#sk-container-id-1 div.sk-estimator {font-family: monospace;background-color: #f0f8ff;border: 1px dotted black;border-radius: 0.25em;box-sizing: border-box;margin-bottom: 0.5em;}#sk-container-id-1 div.sk-estimator:hover {background-color: #d4ebff;}#sk-container-id-1 div.sk-parallel-item::after {content: \"\";width: 100%;border-bottom: 1px solid gray;flex-grow: 1;}#sk-container-id-1 div.sk-label:hover label.sk-toggleable__label {background-color: #d4ebff;}#sk-container-id-1 div.sk-serial::before {content: \"\";position: absolute;border-left: 1px solid gray;box-sizing: border-box;top: 0;bottom: 0;left: 50%;z-index: 0;}#sk-container-id-1 div.sk-serial {display: flex;flex-direction: column;align-items: center;background-color: white;padding-right: 0.2em;padding-left: 0.2em;position: relative;}#sk-container-id-1 div.sk-item {position: relative;z-index: 1;}#sk-container-id-1 div.sk-parallel {display: flex;align-items: stretch;justify-content: center;background-color: white;position: relative;}#sk-container-id-1 div.sk-item::before, #sk-container-id-1 div.sk-parallel-item::before {content: \"\";position: absolute;border-left: 1px solid gray;box-sizing: border-box;top: 0;bottom: 0;left: 50%;z-index: -1;}#sk-container-id-1 div.sk-parallel-item {display: flex;flex-direction: column;z-index: 1;position: relative;background-color: white;}#sk-container-id-1 div.sk-parallel-item:first-child::after {align-self: flex-end;width: 50%;}#sk-container-id-1 div.sk-parallel-item:last-child::after {align-self: flex-start;width: 50%;}#sk-container-id-1 div.sk-parallel-item:only-child::after {width: 0;}#sk-container-id-1 div.sk-dashed-wrapped {border: 1px dashed gray;margin: 0 0.4em 0.5em 0.4em;box-sizing: border-box;padding-bottom: 0.4em;background-color: white;}#sk-container-id-1 div.sk-label label {font-family: monospace;font-weight: bold;display: inline-block;line-height: 1.2em;}#sk-container-id-1 div.sk-label-container {text-align: center;}#sk-container-id-1 div.sk-container {/* jupyter's `normalize.less` sets `[hidden] { display: none; }` but bootstrap.min.css set `[hidden] { display: none !important; }` so we also need the `!important` here to be able to override the default hidden behavior on the sphinx rendered scikit-learn.org. See: https://github.com/scikit-learn/scikit-learn/issues/21755 */display: inline-block !important;position: relative;}#sk-container-id-1 div.sk-text-repr-fallback {display: none;}</style><div id=\"sk-container-id-1\" class=\"sk-top-container\"><div class=\"sk-text-repr-fallback\"><pre>GridSearchCV(cv=4, estimator=DecisionTreeClassifier(random_state=0),\n",
       "             param_grid={&#x27;max_depth&#x27;: [4, 6, 8, None],\n",
       "                         &#x27;min_samples_leaf&#x27;: [2, 3, 4, 5],\n",
       "                         &#x27;min_samples_split&#x27;: [2, 4, 6, 8]},\n",
       "             refit=&#x27;roc_auc&#x27;,\n",
       "             scoring=[&#x27;accuracy&#x27;, &#x27;precision&#x27;, &#x27;recall&#x27;, &#x27;f1&#x27;, &#x27;roc_auc&#x27;])</pre><b>In a Jupyter environment, please rerun this cell to show the HTML representation or trust the notebook. <br />On GitHub, the HTML representation is unable to render, please try loading this page with nbviewer.org.</b></div><div class=\"sk-container\" hidden><div class=\"sk-item sk-dashed-wrapped\"><div class=\"sk-label-container\"><div class=\"sk-label sk-toggleable\"><input class=\"sk-toggleable__control sk-hidden--visually\" id=\"sk-estimator-id-1\" type=\"checkbox\" ><label for=\"sk-estimator-id-1\" class=\"sk-toggleable__label sk-toggleable__label-arrow\">GridSearchCV</label><div class=\"sk-toggleable__content\"><pre>GridSearchCV(cv=4, estimator=DecisionTreeClassifier(random_state=0),\n",
       "             param_grid={&#x27;max_depth&#x27;: [4, 6, 8, None],\n",
       "                         &#x27;min_samples_leaf&#x27;: [2, 3, 4, 5],\n",
       "                         &#x27;min_samples_split&#x27;: [2, 4, 6, 8]},\n",
       "             refit=&#x27;roc_auc&#x27;,\n",
       "             scoring=[&#x27;accuracy&#x27;, &#x27;precision&#x27;, &#x27;recall&#x27;, &#x27;f1&#x27;, &#x27;roc_auc&#x27;])</pre></div></div></div><div class=\"sk-parallel\"><div class=\"sk-parallel-item\"><div class=\"sk-item\"><div class=\"sk-label-container\"><div class=\"sk-label sk-toggleable\"><input class=\"sk-toggleable__control sk-hidden--visually\" id=\"sk-estimator-id-2\" type=\"checkbox\" ><label for=\"sk-estimator-id-2\" class=\"sk-toggleable__label sk-toggleable__label-arrow\">estimator: DecisionTreeClassifier</label><div class=\"sk-toggleable__content\"><pre>DecisionTreeClassifier(random_state=0)</pre></div></div></div><div class=\"sk-serial\"><div class=\"sk-item\"><div class=\"sk-estimator sk-toggleable\"><input class=\"sk-toggleable__control sk-hidden--visually\" id=\"sk-estimator-id-3\" type=\"checkbox\" ><label for=\"sk-estimator-id-3\" class=\"sk-toggleable__label sk-toggleable__label-arrow\">DecisionTreeClassifier</label><div class=\"sk-toggleable__content\"><pre>DecisionTreeClassifier(random_state=0)</pre></div></div></div></div></div></div></div></div></div></div>"
      ],
      "text/plain": [
       "GridSearchCV(cv=4, estimator=DecisionTreeClassifier(random_state=0),\n",
       "             param_grid={'max_depth': [4, 6, 8, None],\n",
       "                         'min_samples_leaf': [2, 3, 4, 5],\n",
       "                         'min_samples_split': [2, 4, 6, 8]},\n",
       "             refit='roc_auc',\n",
       "             scoring=['accuracy', 'precision', 'recall', 'f1', 'roc_auc'])"
      ]
     },
     "execution_count": 482,
     "metadata": {},
     "output_type": "execute_result"
    }
   ],
   "source": [
    "%%time\n",
    "tree1.fit(X_train, y_train)"
   ]
  },
  {
   "cell_type": "code",
   "execution_count": 483,
   "id": "21c220db",
   "metadata": {},
   "outputs": [
    {
     "data": {
      "text/plain": [
       "{'max_depth': 6, 'min_samples_leaf': 5, 'min_samples_split': 2}"
      ]
     },
     "execution_count": 483,
     "metadata": {},
     "output_type": "execute_result"
    }
   ],
   "source": [
    "# Check best parameters\n",
    "tree1.best_params_"
   ]
  },
  {
   "cell_type": "code",
   "execution_count": 484,
   "id": "171a7dfc",
   "metadata": {},
   "outputs": [
    {
     "data": {
      "text/plain": [
       "0.8482637077409715"
      ]
     },
     "execution_count": 484,
     "metadata": {},
     "output_type": "execute_result"
    }
   ],
   "source": [
    "# Check best AUC score on CV\n",
    "tree1.best_score_"
   ]
  },
  {
   "cell_type": "code",
   "execution_count": 485,
   "id": "777bf41c",
   "metadata": {},
   "outputs": [],
   "source": [
    "def make_results(model_name:str, model_object, metric:str):\n",
    "    # Create dictionary that maps input metric to actual metric name in GridSearchCV\n",
    "    metric_dict = {'auc': 'mean_test_roc_auc',\n",
    "                   'precision': 'mean_test_precision',\n",
    "                   'recall': 'mean_test_recall',\n",
    "                   'f1': 'mean_test_f1',\n",
    "                   'accuracy': 'mean_test_accuracy'\n",
    "                  }\n",
    "\n",
    "    # Get all the results from the CV and put them in a df\n",
    "    cv_results = pd.DataFrame(model_object.cv_results_)\n",
    "\n",
    "    # Isolate the row of the df with the max(metric) score\n",
    "    best_estimator_results = cv_results.iloc[cv_results[metric_dict[metric]].idxmax(), :]\n",
    "\n",
    "    # Extract Accuracy, precision, recall, and f1 score from that row\n",
    "    auc = best_estimator_results.mean_test_roc_auc\n",
    "    f1 = best_estimator_results.mean_test_f1\n",
    "    recall = best_estimator_results.mean_test_recall\n",
    "    precision = best_estimator_results.mean_test_precision\n",
    "    accuracy = best_estimator_results.mean_test_accuracy\n",
    "  \n",
    "    # Create table of results\n",
    "    table = pd.DataFrame()\n",
    "    table = pd.DataFrame({'model': [model_name],\n",
    "                          'precision': [precision],\n",
    "                          'recall': [recall],\n",
    "                          'F1': [f1],\n",
    "                          'accuracy': [accuracy],\n",
    "                          'auc': [auc]\n",
    "                        })\n",
    "  \n",
    "    return table"
   ]
  },
  {
   "cell_type": "code",
   "execution_count": 486,
   "id": "a4e6b0e5",
   "metadata": {},
   "outputs": [
    {
     "data": {
      "text/html": [
       "<div>\n",
       "<style scoped>\n",
       "    .dataframe tbody tr th:only-of-type {\n",
       "        vertical-align: middle;\n",
       "    }\n",
       "\n",
       "    .dataframe tbody tr th {\n",
       "        vertical-align: top;\n",
       "    }\n",
       "\n",
       "    .dataframe thead th {\n",
       "        text-align: right;\n",
       "    }\n",
       "</style>\n",
       "<table border=\"1\" class=\"dataframe\">\n",
       "  <thead>\n",
       "    <tr style=\"text-align: right;\">\n",
       "      <th></th>\n",
       "      <th>model</th>\n",
       "      <th>precision</th>\n",
       "      <th>recall</th>\n",
       "      <th>F1</th>\n",
       "      <th>accuracy</th>\n",
       "      <th>auc</th>\n",
       "    </tr>\n",
       "  </thead>\n",
       "  <tbody>\n",
       "    <tr>\n",
       "      <th>0</th>\n",
       "      <td>decision tree cv</td>\n",
       "      <td>0.773062</td>\n",
       "      <td>0.788991</td>\n",
       "      <td>0.780655</td>\n",
       "      <td>0.771083</td>\n",
       "      <td>0.848264</td>\n",
       "    </tr>\n",
       "  </tbody>\n",
       "</table>\n",
       "</div>"
      ],
      "text/plain": [
       "              model  precision    recall        F1  accuracy       auc\n",
       "0  decision tree cv   0.773062  0.788991  0.780655  0.771083  0.848264"
      ]
     },
     "execution_count": 486,
     "metadata": {},
     "output_type": "execute_result"
    }
   ],
   "source": [
    "# Get all CV scores\n",
    "tree1_cv_results = make_results('decision tree cv', tree1, 'auc')\n",
    "tree1_cv_results"
   ]
  },
  {
   "cell_type": "markdown",
   "id": "d90871a4",
   "metadata": {},
   "source": [
    "Model's AUC score increased dramatically with decision tree model. Also f1-score, precision and recall increased 5%."
   ]
  },
  {
   "cell_type": "markdown",
   "id": "f7dba3c0",
   "metadata": {},
   "source": [
    "## Random Forest"
   ]
  },
  {
   "cell_type": "code",
   "execution_count": 491,
   "id": "dfcac685",
   "metadata": {},
   "outputs": [],
   "source": [
    "# Instantiate model\n",
    "rf = RandomForestClassifier(random_state=0)\n",
    "\n",
    "# Assign a dictionary of hyperparameters to search over\n",
    "cv_params = {'max_depth': [3, 5], \n",
    "             'max_features': [1.0],\n",
    "             'max_samples': [0.7, 1.0],\n",
    "             'min_samples_leaf': [2, 3, 4],\n",
    "             'min_samples_split': [2, 3, 4],\n",
    "             'n_estimators': [200, 400],\n",
    "             }  \n",
    "\n",
    "# Assign a dictionary of scoring metrics to capture\n",
    "scoring = ['accuracy', 'precision', 'recall', 'f1', 'roc_auc']\n",
    "\n",
    "# Instantiate GridSearch\n",
    "rf1 = GridSearchCV(rf, cv_params, scoring=scoring, cv=4, refit='roc_auc')"
   ]
  },
  {
   "cell_type": "code",
   "execution_count": 492,
   "id": "b82f32ce",
   "metadata": {},
   "outputs": [
    {
     "name": "stdout",
     "output_type": "stream",
     "text": [
      "CPU times: total: 10min 29s\n",
      "Wall time: 10min 37s\n"
     ]
    },
    {
     "data": {
      "text/html": [
       "<style>#sk-container-id-2 {color: black;}#sk-container-id-2 pre{padding: 0;}#sk-container-id-2 div.sk-toggleable {background-color: white;}#sk-container-id-2 label.sk-toggleable__label {cursor: pointer;display: block;width: 100%;margin-bottom: 0;padding: 0.3em;box-sizing: border-box;text-align: center;}#sk-container-id-2 label.sk-toggleable__label-arrow:before {content: \"▸\";float: left;margin-right: 0.25em;color: #696969;}#sk-container-id-2 label.sk-toggleable__label-arrow:hover:before {color: black;}#sk-container-id-2 div.sk-estimator:hover label.sk-toggleable__label-arrow:before {color: black;}#sk-container-id-2 div.sk-toggleable__content {max-height: 0;max-width: 0;overflow: hidden;text-align: left;background-color: #f0f8ff;}#sk-container-id-2 div.sk-toggleable__content pre {margin: 0.2em;color: black;border-radius: 0.25em;background-color: #f0f8ff;}#sk-container-id-2 input.sk-toggleable__control:checked~div.sk-toggleable__content {max-height: 200px;max-width: 100%;overflow: auto;}#sk-container-id-2 input.sk-toggleable__control:checked~label.sk-toggleable__label-arrow:before {content: \"▾\";}#sk-container-id-2 div.sk-estimator input.sk-toggleable__control:checked~label.sk-toggleable__label {background-color: #d4ebff;}#sk-container-id-2 div.sk-label input.sk-toggleable__control:checked~label.sk-toggleable__label {background-color: #d4ebff;}#sk-container-id-2 input.sk-hidden--visually {border: 0;clip: rect(1px 1px 1px 1px);clip: rect(1px, 1px, 1px, 1px);height: 1px;margin: -1px;overflow: hidden;padding: 0;position: absolute;width: 1px;}#sk-container-id-2 div.sk-estimator {font-family: monospace;background-color: #f0f8ff;border: 1px dotted black;border-radius: 0.25em;box-sizing: border-box;margin-bottom: 0.5em;}#sk-container-id-2 div.sk-estimator:hover {background-color: #d4ebff;}#sk-container-id-2 div.sk-parallel-item::after {content: \"\";width: 100%;border-bottom: 1px solid gray;flex-grow: 1;}#sk-container-id-2 div.sk-label:hover label.sk-toggleable__label {background-color: #d4ebff;}#sk-container-id-2 div.sk-serial::before {content: \"\";position: absolute;border-left: 1px solid gray;box-sizing: border-box;top: 0;bottom: 0;left: 50%;z-index: 0;}#sk-container-id-2 div.sk-serial {display: flex;flex-direction: column;align-items: center;background-color: white;padding-right: 0.2em;padding-left: 0.2em;position: relative;}#sk-container-id-2 div.sk-item {position: relative;z-index: 1;}#sk-container-id-2 div.sk-parallel {display: flex;align-items: stretch;justify-content: center;background-color: white;position: relative;}#sk-container-id-2 div.sk-item::before, #sk-container-id-2 div.sk-parallel-item::before {content: \"\";position: absolute;border-left: 1px solid gray;box-sizing: border-box;top: 0;bottom: 0;left: 50%;z-index: -1;}#sk-container-id-2 div.sk-parallel-item {display: flex;flex-direction: column;z-index: 1;position: relative;background-color: white;}#sk-container-id-2 div.sk-parallel-item:first-child::after {align-self: flex-end;width: 50%;}#sk-container-id-2 div.sk-parallel-item:last-child::after {align-self: flex-start;width: 50%;}#sk-container-id-2 div.sk-parallel-item:only-child::after {width: 0;}#sk-container-id-2 div.sk-dashed-wrapped {border: 1px dashed gray;margin: 0 0.4em 0.5em 0.4em;box-sizing: border-box;padding-bottom: 0.4em;background-color: white;}#sk-container-id-2 div.sk-label label {font-family: monospace;font-weight: bold;display: inline-block;line-height: 1.2em;}#sk-container-id-2 div.sk-label-container {text-align: center;}#sk-container-id-2 div.sk-container {/* jupyter's `normalize.less` sets `[hidden] { display: none; }` but bootstrap.min.css set `[hidden] { display: none !important; }` so we also need the `!important` here to be able to override the default hidden behavior on the sphinx rendered scikit-learn.org. See: https://github.com/scikit-learn/scikit-learn/issues/21755 */display: inline-block !important;position: relative;}#sk-container-id-2 div.sk-text-repr-fallback {display: none;}</style><div id=\"sk-container-id-2\" class=\"sk-top-container\"><div class=\"sk-text-repr-fallback\"><pre>GridSearchCV(cv=4, estimator=RandomForestClassifier(random_state=0),\n",
       "             param_grid={&#x27;max_depth&#x27;: [3, 5], &#x27;max_features&#x27;: [1.0],\n",
       "                         &#x27;max_samples&#x27;: [0.7, 1.0],\n",
       "                         &#x27;min_samples_leaf&#x27;: [2, 3, 4],\n",
       "                         &#x27;min_samples_split&#x27;: [2, 3, 4],\n",
       "                         &#x27;n_estimators&#x27;: [200, 400]},\n",
       "             refit=&#x27;roc_auc&#x27;,\n",
       "             scoring=[&#x27;accuracy&#x27;, &#x27;precision&#x27;, &#x27;recall&#x27;, &#x27;f1&#x27;, &#x27;roc_auc&#x27;])</pre><b>In a Jupyter environment, please rerun this cell to show the HTML representation or trust the notebook. <br />On GitHub, the HTML representation is unable to render, please try loading this page with nbviewer.org.</b></div><div class=\"sk-container\" hidden><div class=\"sk-item sk-dashed-wrapped\"><div class=\"sk-label-container\"><div class=\"sk-label sk-toggleable\"><input class=\"sk-toggleable__control sk-hidden--visually\" id=\"sk-estimator-id-4\" type=\"checkbox\" ><label for=\"sk-estimator-id-4\" class=\"sk-toggleable__label sk-toggleable__label-arrow\">GridSearchCV</label><div class=\"sk-toggleable__content\"><pre>GridSearchCV(cv=4, estimator=RandomForestClassifier(random_state=0),\n",
       "             param_grid={&#x27;max_depth&#x27;: [3, 5], &#x27;max_features&#x27;: [1.0],\n",
       "                         &#x27;max_samples&#x27;: [0.7, 1.0],\n",
       "                         &#x27;min_samples_leaf&#x27;: [2, 3, 4],\n",
       "                         &#x27;min_samples_split&#x27;: [2, 3, 4],\n",
       "                         &#x27;n_estimators&#x27;: [200, 400]},\n",
       "             refit=&#x27;roc_auc&#x27;,\n",
       "             scoring=[&#x27;accuracy&#x27;, &#x27;precision&#x27;, &#x27;recall&#x27;, &#x27;f1&#x27;, &#x27;roc_auc&#x27;])</pre></div></div></div><div class=\"sk-parallel\"><div class=\"sk-parallel-item\"><div class=\"sk-item\"><div class=\"sk-label-container\"><div class=\"sk-label sk-toggleable\"><input class=\"sk-toggleable__control sk-hidden--visually\" id=\"sk-estimator-id-5\" type=\"checkbox\" ><label for=\"sk-estimator-id-5\" class=\"sk-toggleable__label sk-toggleable__label-arrow\">estimator: RandomForestClassifier</label><div class=\"sk-toggleable__content\"><pre>RandomForestClassifier(random_state=0)</pre></div></div></div><div class=\"sk-serial\"><div class=\"sk-item\"><div class=\"sk-estimator sk-toggleable\"><input class=\"sk-toggleable__control sk-hidden--visually\" id=\"sk-estimator-id-6\" type=\"checkbox\" ><label for=\"sk-estimator-id-6\" class=\"sk-toggleable__label sk-toggleable__label-arrow\">RandomForestClassifier</label><div class=\"sk-toggleable__content\"><pre>RandomForestClassifier(random_state=0)</pre></div></div></div></div></div></div></div></div></div></div>"
      ],
      "text/plain": [
       "GridSearchCV(cv=4, estimator=RandomForestClassifier(random_state=0),\n",
       "             param_grid={'max_depth': [3, 5], 'max_features': [1.0],\n",
       "                         'max_samples': [0.7, 1.0],\n",
       "                         'min_samples_leaf': [2, 3, 4],\n",
       "                         'min_samples_split': [2, 3, 4],\n",
       "                         'n_estimators': [200, 400]},\n",
       "             refit='roc_auc',\n",
       "             scoring=['accuracy', 'precision', 'recall', 'f1', 'roc_auc'])"
      ]
     },
     "execution_count": 492,
     "metadata": {},
     "output_type": "execute_result"
    }
   ],
   "source": [
    "%%time\n",
    "rf1.fit(X_train, y_train)"
   ]
  },
  {
   "cell_type": "code",
   "execution_count": 493,
   "id": "9dd8fb8a",
   "metadata": {},
   "outputs": [],
   "source": [
    "# Path to the folder where you want to save the model\n",
    "path = 'models/'"
   ]
  },
  {
   "cell_type": "code",
   "execution_count": 494,
   "id": "a48900c3",
   "metadata": {},
   "outputs": [],
   "source": [
    "# Model saving function\n",
    "def write_pickle(path, model_object, save_as:str):  \n",
    "    with open(path + save_as + '.pickle', 'wb') as to_write:\n",
    "        pickle.dump(model_object, to_write)"
   ]
  },
  {
   "cell_type": "code",
   "execution_count": 495,
   "id": "8b544530",
   "metadata": {},
   "outputs": [],
   "source": [
    "# Model reading function\n",
    "def read_pickle(path, saved_model_name:str):\n",
    "    with open(path + saved_model_name + '.pickle', 'rb') as to_read:\n",
    "        model = pickle.load(to_read)\n",
    "    return model"
   ]
  },
  {
   "cell_type": "code",
   "execution_count": 496,
   "id": "4e426137",
   "metadata": {},
   "outputs": [],
   "source": [
    "# Write pickle\n",
    "write_pickle(path, rf1, '_rf1')"
   ]
  },
  {
   "cell_type": "code",
   "execution_count": 497,
   "id": "abf62ca3",
   "metadata": {},
   "outputs": [],
   "source": [
    "# Read pickle\n",
    "rf1 = read_pickle(path, '_rf1')"
   ]
  },
  {
   "cell_type": "code",
   "execution_count": 498,
   "id": "b822ee60",
   "metadata": {},
   "outputs": [
    {
     "data": {
      "text/plain": [
       "0.8567758146454927"
      ]
     },
     "execution_count": 498,
     "metadata": {},
     "output_type": "execute_result"
    }
   ],
   "source": [
    "# Check best AUC score on CV\n",
    "rf1.best_score_"
   ]
  },
  {
   "cell_type": "code",
   "execution_count": 499,
   "id": "46fb9337",
   "metadata": {},
   "outputs": [
    {
     "data": {
      "text/plain": [
       "{'max_depth': 5,\n",
       " 'max_features': 1.0,\n",
       " 'max_samples': 0.7,\n",
       " 'min_samples_leaf': 4,\n",
       " 'min_samples_split': 2,\n",
       " 'n_estimators': 400}"
      ]
     },
     "execution_count": 499,
     "metadata": {},
     "output_type": "execute_result"
    }
   ],
   "source": [
    "# Check best params\n",
    "rf1.best_params_"
   ]
  },
  {
   "cell_type": "code",
   "execution_count": 500,
   "id": "c5fdb694",
   "metadata": {},
   "outputs": [
    {
     "name": "stdout",
     "output_type": "stream",
     "text": [
      "              model  precision    recall        F1  accuracy       auc\n",
      "0  random forest cv   0.768894  0.803899  0.785653  0.773454  0.856776\n"
     ]
    }
   ],
   "source": [
    "# Get all CV scores\n",
    "rf1_cv_results = make_results('random forest cv', rf1, 'auc')\n",
    "print(rf1_cv_results)"
   ]
  },
  {
   "cell_type": "markdown",
   "id": "91ca6523",
   "metadata": {},
   "source": [
    "- Overal score is increased\n",
    "- We will train the model with the whole data"
   ]
  },
  {
   "cell_type": "code",
   "execution_count": 501,
   "id": "20f62587",
   "metadata": {},
   "outputs": [],
   "source": [
    "# Instantiate model\n",
    "rf = RandomForestClassifier(random_state=0)\n",
    "\n",
    "# Assign a dictionary of hyperparameters to search over\n",
    "cv_params = {'max_depth': [5], \n",
    "             'max_features': [1.0],\n",
    "             'max_samples': [0.7],\n",
    "             'min_samples_leaf': [4],\n",
    "             'min_samples_split': [2],\n",
    "             'n_estimators': [400],\n",
    "             }  \n",
    "\n",
    "# Assign a dictionary of scoring metrics to capture\n",
    "scoring = ['accuracy', 'precision', 'recall', 'f1', 'roc_auc']\n",
    "\n",
    "# Instantiate GridSearch\n",
    "rf1 = GridSearchCV(rf, cv_params, scoring=scoring, cv=4, refit='roc_auc')"
   ]
  },
  {
   "cell_type": "code",
   "execution_count": 502,
   "id": "fb45d441",
   "metadata": {},
   "outputs": [
    {
     "name": "stdout",
     "output_type": "stream",
     "text": [
      "CPU times: total: 15.9 s\n",
      "Wall time: 16 s\n"
     ]
    },
    {
     "data": {
      "text/html": [
       "<style>#sk-container-id-3 {color: black;}#sk-container-id-3 pre{padding: 0;}#sk-container-id-3 div.sk-toggleable {background-color: white;}#sk-container-id-3 label.sk-toggleable__label {cursor: pointer;display: block;width: 100%;margin-bottom: 0;padding: 0.3em;box-sizing: border-box;text-align: center;}#sk-container-id-3 label.sk-toggleable__label-arrow:before {content: \"▸\";float: left;margin-right: 0.25em;color: #696969;}#sk-container-id-3 label.sk-toggleable__label-arrow:hover:before {color: black;}#sk-container-id-3 div.sk-estimator:hover label.sk-toggleable__label-arrow:before {color: black;}#sk-container-id-3 div.sk-toggleable__content {max-height: 0;max-width: 0;overflow: hidden;text-align: left;background-color: #f0f8ff;}#sk-container-id-3 div.sk-toggleable__content pre {margin: 0.2em;color: black;border-radius: 0.25em;background-color: #f0f8ff;}#sk-container-id-3 input.sk-toggleable__control:checked~div.sk-toggleable__content {max-height: 200px;max-width: 100%;overflow: auto;}#sk-container-id-3 input.sk-toggleable__control:checked~label.sk-toggleable__label-arrow:before {content: \"▾\";}#sk-container-id-3 div.sk-estimator input.sk-toggleable__control:checked~label.sk-toggleable__label {background-color: #d4ebff;}#sk-container-id-3 div.sk-label input.sk-toggleable__control:checked~label.sk-toggleable__label {background-color: #d4ebff;}#sk-container-id-3 input.sk-hidden--visually {border: 0;clip: rect(1px 1px 1px 1px);clip: rect(1px, 1px, 1px, 1px);height: 1px;margin: -1px;overflow: hidden;padding: 0;position: absolute;width: 1px;}#sk-container-id-3 div.sk-estimator {font-family: monospace;background-color: #f0f8ff;border: 1px dotted black;border-radius: 0.25em;box-sizing: border-box;margin-bottom: 0.5em;}#sk-container-id-3 div.sk-estimator:hover {background-color: #d4ebff;}#sk-container-id-3 div.sk-parallel-item::after {content: \"\";width: 100%;border-bottom: 1px solid gray;flex-grow: 1;}#sk-container-id-3 div.sk-label:hover label.sk-toggleable__label {background-color: #d4ebff;}#sk-container-id-3 div.sk-serial::before {content: \"\";position: absolute;border-left: 1px solid gray;box-sizing: border-box;top: 0;bottom: 0;left: 50%;z-index: 0;}#sk-container-id-3 div.sk-serial {display: flex;flex-direction: column;align-items: center;background-color: white;padding-right: 0.2em;padding-left: 0.2em;position: relative;}#sk-container-id-3 div.sk-item {position: relative;z-index: 1;}#sk-container-id-3 div.sk-parallel {display: flex;align-items: stretch;justify-content: center;background-color: white;position: relative;}#sk-container-id-3 div.sk-item::before, #sk-container-id-3 div.sk-parallel-item::before {content: \"\";position: absolute;border-left: 1px solid gray;box-sizing: border-box;top: 0;bottom: 0;left: 50%;z-index: -1;}#sk-container-id-3 div.sk-parallel-item {display: flex;flex-direction: column;z-index: 1;position: relative;background-color: white;}#sk-container-id-3 div.sk-parallel-item:first-child::after {align-self: flex-end;width: 50%;}#sk-container-id-3 div.sk-parallel-item:last-child::after {align-self: flex-start;width: 50%;}#sk-container-id-3 div.sk-parallel-item:only-child::after {width: 0;}#sk-container-id-3 div.sk-dashed-wrapped {border: 1px dashed gray;margin: 0 0.4em 0.5em 0.4em;box-sizing: border-box;padding-bottom: 0.4em;background-color: white;}#sk-container-id-3 div.sk-label label {font-family: monospace;font-weight: bold;display: inline-block;line-height: 1.2em;}#sk-container-id-3 div.sk-label-container {text-align: center;}#sk-container-id-3 div.sk-container {/* jupyter's `normalize.less` sets `[hidden] { display: none; }` but bootstrap.min.css set `[hidden] { display: none !important; }` so we also need the `!important` here to be able to override the default hidden behavior on the sphinx rendered scikit-learn.org. See: https://github.com/scikit-learn/scikit-learn/issues/21755 */display: inline-block !important;position: relative;}#sk-container-id-3 div.sk-text-repr-fallback {display: none;}</style><div id=\"sk-container-id-3\" class=\"sk-top-container\"><div class=\"sk-text-repr-fallback\"><pre>GridSearchCV(cv=4, estimator=RandomForestClassifier(random_state=0),\n",
       "             param_grid={&#x27;max_depth&#x27;: [5], &#x27;max_features&#x27;: [1.0],\n",
       "                         &#x27;max_samples&#x27;: [0.7], &#x27;min_samples_leaf&#x27;: [4],\n",
       "                         &#x27;min_samples_split&#x27;: [2], &#x27;n_estimators&#x27;: [400]},\n",
       "             refit=&#x27;roc_auc&#x27;,\n",
       "             scoring=[&#x27;accuracy&#x27;, &#x27;precision&#x27;, &#x27;recall&#x27;, &#x27;f1&#x27;, &#x27;roc_auc&#x27;])</pre><b>In a Jupyter environment, please rerun this cell to show the HTML representation or trust the notebook. <br />On GitHub, the HTML representation is unable to render, please try loading this page with nbviewer.org.</b></div><div class=\"sk-container\" hidden><div class=\"sk-item sk-dashed-wrapped\"><div class=\"sk-label-container\"><div class=\"sk-label sk-toggleable\"><input class=\"sk-toggleable__control sk-hidden--visually\" id=\"sk-estimator-id-7\" type=\"checkbox\" ><label for=\"sk-estimator-id-7\" class=\"sk-toggleable__label sk-toggleable__label-arrow\">GridSearchCV</label><div class=\"sk-toggleable__content\"><pre>GridSearchCV(cv=4, estimator=RandomForestClassifier(random_state=0),\n",
       "             param_grid={&#x27;max_depth&#x27;: [5], &#x27;max_features&#x27;: [1.0],\n",
       "                         &#x27;max_samples&#x27;: [0.7], &#x27;min_samples_leaf&#x27;: [4],\n",
       "                         &#x27;min_samples_split&#x27;: [2], &#x27;n_estimators&#x27;: [400]},\n",
       "             refit=&#x27;roc_auc&#x27;,\n",
       "             scoring=[&#x27;accuracy&#x27;, &#x27;precision&#x27;, &#x27;recall&#x27;, &#x27;f1&#x27;, &#x27;roc_auc&#x27;])</pre></div></div></div><div class=\"sk-parallel\"><div class=\"sk-parallel-item\"><div class=\"sk-item\"><div class=\"sk-label-container\"><div class=\"sk-label sk-toggleable\"><input class=\"sk-toggleable__control sk-hidden--visually\" id=\"sk-estimator-id-8\" type=\"checkbox\" ><label for=\"sk-estimator-id-8\" class=\"sk-toggleable__label sk-toggleable__label-arrow\">estimator: RandomForestClassifier</label><div class=\"sk-toggleable__content\"><pre>RandomForestClassifier(random_state=0)</pre></div></div></div><div class=\"sk-serial\"><div class=\"sk-item\"><div class=\"sk-estimator sk-toggleable\"><input class=\"sk-toggleable__control sk-hidden--visually\" id=\"sk-estimator-id-9\" type=\"checkbox\" ><label for=\"sk-estimator-id-9\" class=\"sk-toggleable__label sk-toggleable__label-arrow\">RandomForestClassifier</label><div class=\"sk-toggleable__content\"><pre>RandomForestClassifier(random_state=0)</pre></div></div></div></div></div></div></div></div></div></div>"
      ],
      "text/plain": [
       "GridSearchCV(cv=4, estimator=RandomForestClassifier(random_state=0),\n",
       "             param_grid={'max_depth': [5], 'max_features': [1.0],\n",
       "                         'max_samples': [0.7], 'min_samples_leaf': [4],\n",
       "                         'min_samples_split': [2], 'n_estimators': [400]},\n",
       "             refit='roc_auc',\n",
       "             scoring=['accuracy', 'precision', 'recall', 'f1', 'roc_auc'])"
      ]
     },
     "execution_count": 502,
     "metadata": {},
     "output_type": "execute_result"
    }
   ],
   "source": [
    "%%time\n",
    "rf1.fit(X, y) # --> Wall time: ~10min;"
   ]
  },
  {
   "cell_type": "code",
   "execution_count": 503,
   "id": "d1c3b0c9",
   "metadata": {},
   "outputs": [],
   "source": [
    "# Write pickle\n",
    "write_pickle(path, rf1, 'hr_rf1_full')"
   ]
  },
  {
   "cell_type": "code",
   "execution_count": 504,
   "id": "51738c55",
   "metadata": {},
   "outputs": [],
   "source": [
    "# Read pickle\n",
    "rf1 = read_pickle(path, 'hr_rf1_full')"
   ]
  },
  {
   "cell_type": "code",
   "execution_count": 505,
   "id": "e1365cff",
   "metadata": {},
   "outputs": [
    {
     "data": {
      "text/plain": [
       "0.8475805675861133"
      ]
     },
     "execution_count": 505,
     "metadata": {},
     "output_type": "execute_result"
    }
   ],
   "source": [
    "# Check best AUC score on CV\n",
    "rf1.best_score_"
   ]
  },
  {
   "cell_type": "markdown",
   "id": "f58f18f3",
   "metadata": {},
   "source": [
    "# Test Data Preprocessing"
   ]
  },
  {
   "cell_type": "code",
   "execution_count": 572,
   "id": "e0a3bf42",
   "metadata": {},
   "outputs": [
    {
     "data": {
      "text/html": [
       "<div>\n",
       "<style scoped>\n",
       "    .dataframe tbody tr th:only-of-type {\n",
       "        vertical-align: middle;\n",
       "    }\n",
       "\n",
       "    .dataframe tbody tr th {\n",
       "        vertical-align: top;\n",
       "    }\n",
       "\n",
       "    .dataframe thead th {\n",
       "        text-align: right;\n",
       "    }\n",
       "</style>\n",
       "<table border=\"1\" class=\"dataframe\">\n",
       "  <thead>\n",
       "    <tr style=\"text-align: right;\">\n",
       "      <th></th>\n",
       "      <th>PassengerId</th>\n",
       "      <th>HomePlanet</th>\n",
       "      <th>CryoSleep</th>\n",
       "      <th>Cabin</th>\n",
       "      <th>Destination</th>\n",
       "      <th>Age</th>\n",
       "      <th>VIP</th>\n",
       "      <th>RoomService</th>\n",
       "      <th>FoodCourt</th>\n",
       "      <th>ShoppingMall</th>\n",
       "      <th>Spa</th>\n",
       "      <th>VRDeck</th>\n",
       "      <th>Name</th>\n",
       "    </tr>\n",
       "  </thead>\n",
       "  <tbody>\n",
       "    <tr>\n",
       "      <th>0</th>\n",
       "      <td>0013_01</td>\n",
       "      <td>Earth</td>\n",
       "      <td>True</td>\n",
       "      <td>G/3/S</td>\n",
       "      <td>TRAPPIST-1e</td>\n",
       "      <td>27.0</td>\n",
       "      <td>False</td>\n",
       "      <td>0.0</td>\n",
       "      <td>0.0</td>\n",
       "      <td>0.0</td>\n",
       "      <td>0.0</td>\n",
       "      <td>0.0</td>\n",
       "      <td>Nelly Carsoning</td>\n",
       "    </tr>\n",
       "    <tr>\n",
       "      <th>1</th>\n",
       "      <td>0018_01</td>\n",
       "      <td>Earth</td>\n",
       "      <td>False</td>\n",
       "      <td>F/4/S</td>\n",
       "      <td>TRAPPIST-1e</td>\n",
       "      <td>19.0</td>\n",
       "      <td>False</td>\n",
       "      <td>0.0</td>\n",
       "      <td>9.0</td>\n",
       "      <td>0.0</td>\n",
       "      <td>2823.0</td>\n",
       "      <td>0.0</td>\n",
       "      <td>Lerome Peckers</td>\n",
       "    </tr>\n",
       "    <tr>\n",
       "      <th>2</th>\n",
       "      <td>0019_01</td>\n",
       "      <td>Europa</td>\n",
       "      <td>True</td>\n",
       "      <td>C/0/S</td>\n",
       "      <td>55 Cancri e</td>\n",
       "      <td>31.0</td>\n",
       "      <td>False</td>\n",
       "      <td>0.0</td>\n",
       "      <td>0.0</td>\n",
       "      <td>0.0</td>\n",
       "      <td>0.0</td>\n",
       "      <td>0.0</td>\n",
       "      <td>Sabih Unhearfus</td>\n",
       "    </tr>\n",
       "    <tr>\n",
       "      <th>3</th>\n",
       "      <td>0021_01</td>\n",
       "      <td>Europa</td>\n",
       "      <td>False</td>\n",
       "      <td>C/1/S</td>\n",
       "      <td>TRAPPIST-1e</td>\n",
       "      <td>38.0</td>\n",
       "      <td>False</td>\n",
       "      <td>0.0</td>\n",
       "      <td>6652.0</td>\n",
       "      <td>0.0</td>\n",
       "      <td>181.0</td>\n",
       "      <td>585.0</td>\n",
       "      <td>Meratz Caltilter</td>\n",
       "    </tr>\n",
       "    <tr>\n",
       "      <th>4</th>\n",
       "      <td>0023_01</td>\n",
       "      <td>Earth</td>\n",
       "      <td>False</td>\n",
       "      <td>F/5/S</td>\n",
       "      <td>TRAPPIST-1e</td>\n",
       "      <td>20.0</td>\n",
       "      <td>False</td>\n",
       "      <td>10.0</td>\n",
       "      <td>0.0</td>\n",
       "      <td>635.0</td>\n",
       "      <td>0.0</td>\n",
       "      <td>0.0</td>\n",
       "      <td>Brence Harperez</td>\n",
       "    </tr>\n",
       "  </tbody>\n",
       "</table>\n",
       "</div>"
      ],
      "text/plain": [
       "  PassengerId HomePlanet CryoSleep  Cabin  Destination   Age    VIP  \\\n",
       "0     0013_01      Earth      True  G/3/S  TRAPPIST-1e  27.0  False   \n",
       "1     0018_01      Earth     False  F/4/S  TRAPPIST-1e  19.0  False   \n",
       "2     0019_01     Europa      True  C/0/S  55 Cancri e  31.0  False   \n",
       "3     0021_01     Europa     False  C/1/S  TRAPPIST-1e  38.0  False   \n",
       "4     0023_01      Earth     False  F/5/S  TRAPPIST-1e  20.0  False   \n",
       "\n",
       "   RoomService  FoodCourt  ShoppingMall     Spa  VRDeck              Name  \n",
       "0          0.0        0.0           0.0     0.0     0.0   Nelly Carsoning  \n",
       "1          0.0        9.0           0.0  2823.0     0.0    Lerome Peckers  \n",
       "2          0.0        0.0           0.0     0.0     0.0   Sabih Unhearfus  \n",
       "3          0.0     6652.0           0.0   181.0   585.0  Meratz Caltilter  \n",
       "4         10.0        0.0         635.0     0.0     0.0   Brence Harperez  "
      ]
     },
     "execution_count": 572,
     "metadata": {},
     "output_type": "execute_result"
    }
   ],
   "source": [
    "# See the test set\n",
    "test.head()"
   ]
  },
  {
   "cell_type": "markdown",
   "id": "c87cb4ed",
   "metadata": {},
   "source": [
    "Same data preperation steps to the test set"
   ]
  },
  {
   "cell_type": "code",
   "execution_count": 573,
   "id": "31d62964",
   "metadata": {},
   "outputs": [
    {
     "data": {
      "text/plain": [
       "PassengerId     0.000000\n",
       "HomePlanet      1.000805\n",
       "CryoSleep       1.069826\n",
       "Cabin           1.150351\n",
       "Destination     1.058323\n",
       "Age             1.046819\n",
       "VIP             1.069826\n",
       "RoomService     0.943288\n",
       "FoodCourt       1.219372\n",
       "ShoppingMall    1.127344\n",
       "Spa             1.161854\n",
       "VRDeck          0.920281\n",
       "Name            1.081330\n",
       "dtype: float64"
      ]
     },
     "execution_count": 573,
     "metadata": {},
     "output_type": "execute_result"
    }
   ],
   "source": [
    "# Finding missing value ratio for each feature\n",
    "(test.isna().sum() / len(train)) * 100"
   ]
  },
  {
   "cell_type": "code",
   "execution_count": 574,
   "id": "a0f63119",
   "metadata": {},
   "outputs": [],
   "source": [
    "# Distrubution for non-numeric columns\n",
    "def take_dist(column):\n",
    "    return test[column].value_counts(normalize=True)"
   ]
  },
  {
   "cell_type": "code",
   "execution_count": 575,
   "id": "f3e331b3",
   "metadata": {},
   "outputs": [
    {
     "data": {
      "text/plain": [
       "PassengerId     0.000000\n",
       "HomePlanet      1.000805\n",
       "CryoSleep       1.069826\n",
       "Cabin           1.150351\n",
       "Destination     1.058323\n",
       "Age             1.046819\n",
       "VIP             1.069826\n",
       "RoomService     0.943288\n",
       "FoodCourt       1.219372\n",
       "ShoppingMall    1.127344\n",
       "Spa             1.161854\n",
       "VRDeck          0.920281\n",
       "Name            1.081330\n",
       "dtype: float64"
      ]
     },
     "execution_count": 575,
     "metadata": {},
     "output_type": "execute_result"
    }
   ],
   "source": [
    "# Finding missing value ratio for each feature\n",
    "(test.isna().sum() / len(train)) * 100"
   ]
  },
  {
   "cell_type": "code",
   "execution_count": 578,
   "id": "923bf741",
   "metadata": {},
   "outputs": [],
   "source": [
    "# Handling nan values\n",
    "test = test.drop(['Name'], axis=1)\n",
    "test.loc[test['CryoSleep'] == True, ['RoomService', 'FoodCourt', 'ShoppingMall', 'Spa', 'VRDeck']] = 0\n",
    "test.loc[test['Age'].isna(), 'Age'] = test['Age'].mean()\n",
    "test.loc[test['FoodCourt'].isna(), 'FoodCourt'] = test['FoodCourt'].mean()\n",
    "test.loc[test['RoomService'].isna(), 'RoomService'] = test['RoomService'].mean()\n",
    "test.loc[test['ShoppingMall'].isna(), 'ShoppingMall'] = test['ShoppingMall'].mean()\n",
    "test.loc[test['Spa'].isna(), 'Spa'] = test['Spa'].mean()\n",
    "test.loc[test['VRDeck'].isna(), 'VRDeck'] = test['VRDeck'].mean()\n",
    "test.loc[test['HomePlanet'].isna(), 'HomePlanet'] = choice(take_dist('HomePlanet').index, p=take_dist('HomePlanet').values)\n",
    "test.loc[test['CryoSleep'].isna(), 'CryoSleep'] = choice(take_dist('CryoSleep').index, p=take_dist('CryoSleep').values)\n",
    "test.loc[test['Cabin'].isna(), 'Cabin'] = choice(take_dist('Cabin').index, p=take_dist('Cabin').values)\n",
    "test.loc[test['Destination'].isna(), 'Destination'] = choice(take_dist('Destination').index, p=take_dist('Destination').values)\n",
    "test.loc[test['VIP'].isna(), 'VIP'] = choice(take_dist('VIP').index, p=take_dist('VIP').values)\n",
    "test = test.reset_index(drop=True)"
   ]
  },
  {
   "cell_type": "code",
   "execution_count": 579,
   "id": "e1baf420",
   "metadata": {},
   "outputs": [
    {
     "data": {
      "text/plain": [
       "PassengerId     0.0\n",
       "HomePlanet      0.0\n",
       "CryoSleep       0.0\n",
       "Cabin           0.0\n",
       "Destination     0.0\n",
       "Age             0.0\n",
       "VIP             0.0\n",
       "RoomService     0.0\n",
       "FoodCourt       0.0\n",
       "ShoppingMall    0.0\n",
       "Spa             0.0\n",
       "VRDeck          0.0\n",
       "dtype: float64"
      ]
     },
     "execution_count": 579,
     "metadata": {},
     "output_type": "execute_result"
    }
   ],
   "source": [
    "# Check missing values again\n",
    "(test.isna().sum() / len(train)) * 100"
   ]
  },
  {
   "cell_type": "code",
   "execution_count": 580,
   "id": "f93d3fd6",
   "metadata": {},
   "outputs": [],
   "source": [
    "# Data Preperation\n",
    "test['group'] = test['PassengerId'].apply(split_group)\n",
    "deck, num, side = [], [], [] \n",
    "test['Cabin'].apply(split_cabin)\n",
    "test['deck'] = deck\n",
    "test['num'] = num\n",
    "test['side'] = side\n",
    "# Data Grouping - Food Court\n",
    "high_time = test['FoodCourt'] >= 1409.0\n",
    "medium_time = (test['FoodCourt'] >= 478.0) & (test['FoodCourt'].values < 1409.0)\n",
    "low_time = (test['FoodCourt'] > 0) & (test['FoodCourt'] < 478.0)\n",
    "no_time = test['FoodCourt'] == 0\n",
    "\n",
    "# Feature generation\n",
    "test['time_spent_foodcourt'] = np.where(high_time, 3,\n",
    "                                            np.where(medium_time, 2,\n",
    "                                                    np.where(low_time, 1,\n",
    "                                                            np.where(no_time, 0, np.nan))))\n",
    "\n",
    "# Data Grouping - Shopping Mall\n",
    "high_time = test['ShoppingMall'] >= 849.0\n",
    "medium_time = (test['ShoppingMall'] >= 174.0) & (test['ShoppingMall'].values < 849.0)\n",
    "low_time = (test['ShoppingMall'] > 0) & (test['ShoppingMall'] < 174.0)\n",
    "no_time = test['ShoppingMall'] == 0\n",
    "\n",
    "# Feature generation\n",
    "test['time_spent_shoppingmall'] = np.where(high_time, 3,\n",
    "                                            np.where(medium_time, 2,\n",
    "                                                    np.where(low_time, 1,\n",
    "                                                            np.where(no_time, 0, np.nan))))\n",
    "# Data Grouping - Spa\n",
    "high_time = test['Spa'] >= 960.0\n",
    "medium_time = (test['Spa'] >= 356.0) & (test['Spa'] < 960.0)\n",
    "low_time = (test['Spa'] > 0) & (test['Spa'] < 960.0)\n",
    "no_time = test['Spa'] == 0\n",
    "\n",
    "# Feature generation\n",
    "test['time_spent_spa'] = np.where(high_time, 3,\n",
    "                                            np.where(medium_time, 2,\n",
    "                                                    np.where(low_time, 1,\n",
    "                                                            np.where(no_time, 0, np.nan))))\n",
    "\n",
    "# Data Grouping - VR Deck\n",
    "high_time = test['VRDeck'] >= 927.0\n",
    "medium_time = (test['VRDeck'] >= 186.0) & (test['VRDeck'] < 927.0)\n",
    "low_time = (test['VRDeck'] > 0) & (test['VRDeck'] < 186.0)\n",
    "no_time = test['VRDeck'] == 0\n",
    "\n",
    "# Feature generation\n",
    "test['time_spent_vrdeck'] = np.where(high_time, 3,\n",
    "                                            np.where(medium_time, 2,\n",
    "                                                    np.where(low_time, 1,\n",
    "                                                            np.where(no_time, 0, np.nan))))\n",
    "# Masks for time spent at room deck\n",
    "high_time = test['RoomService'] >= 931.0\n",
    "medium_time = (test['RoomService'] >= 281.0) & (test['RoomService'] < 931.0)\n",
    "low_time = (test['RoomService'] >= 0) & (test['RoomService'] < 281.0)\n",
    "\n",
    "# Feature generation\n",
    "test['time_spent_room'] = np.where(high_time, 2,\n",
    "                                            np.where(medium_time, 1,\n",
    "                                                        np.where(low_time, 0, np.nan)))\n",
    "\n",
    "# Make the passengers which travels within cyrosleep 3, the highest time spent at the room\n",
    "test.loc[test['CryoSleep'] == True, 'RoomService'] = 3\n",
    "\n",
    "# Age grouping\n",
    "old = test['Age'] >= 65\n",
    "medium = (test['Age'] >= 30) & (test['Age'] < 65)\n",
    "young = (test['Age'] >= 12) & (test['Age'] < 30)\n",
    "child = test['Age'] < 12\n",
    "\n",
    "# Feature generation\n",
    "test['age_group'] = np.where(old, 3,\n",
    "                                    np.where(medium, 2,\n",
    "                                             np.where(young, 1, \n",
    "                                                      np.where(child, 0, np.nan))))\n",
    "\n",
    "# Destination grouping\n",
    "test['destination_group'] = np.where(test['Destination'] == 'TRAPPIST-1e', 0,\n",
    "                                    np.where(test['Destination'] == 'PSO J318.5-22', 1,\n",
    "                                                 np.where(test['Destination'] == '55 Cancri e', 2, np.nan)))\n",
    "\n",
    "# Home planet grouping\n",
    "test['home_group'] = np.where(test['HomePlanet'] == 'Europa', 0,\n",
    "                                    np.where(test['HomePlanet'] == 'Earth', 1,\n",
    "                                                 np.where(test['HomePlanet'] == 'Mars', 2, np.nan)))\n",
    "\n",
    "# Deck numerization\n",
    "test['deck'] = np.where(test['deck'] == 'A', 0,\n",
    "                                    np.where(test['deck'] == 'B', 1, \n",
    "                                             np.where(test['deck'] == 'C', 2, \n",
    "                                                      np.where(test['deck'] == 'D', 3, \n",
    "                                                               np.where(test['deck'] == 'E', 4, \n",
    "                                                                        np.where(test['deck'] == 'F', 5, \n",
    "                                                                                 np.where(test['deck'] == 'G', 6, \n",
    "                                                                                          np.where(test['deck'] == 'T', 7, np.nan))))))))\n",
    "\n",
    "# Side numerization\n",
    "test['side'] = np.where(test['side'] == 'S', 0,\n",
    "                                    np.where(test['side'] == 'P', 1, np.nan))"
   ]
  },
  {
   "cell_type": "markdown",
   "id": "82391c65",
   "metadata": {},
   "source": [
    "# Predictions"
   ]
  },
  {
   "cell_type": "code",
   "execution_count": 581,
   "id": "0ccbabc6",
   "metadata": {},
   "outputs": [],
   "source": [
    "X = test[['group', 'deck', 'num', 'side', 'time_spent_foodcourt', 'time_spent_shoppingmall', \n",
    "           'time_spent_spa', 'time_spent_vrdeck', 'age_group', 'destination_group', 'home_group']].astype(int)"
   ]
  },
  {
   "cell_type": "code",
   "execution_count": 582,
   "id": "c5b52e6d",
   "metadata": {},
   "outputs": [
    {
     "data": {
      "text/html": [
       "<div>\n",
       "<style scoped>\n",
       "    .dataframe tbody tr th:only-of-type {\n",
       "        vertical-align: middle;\n",
       "    }\n",
       "\n",
       "    .dataframe tbody tr th {\n",
       "        vertical-align: top;\n",
       "    }\n",
       "\n",
       "    .dataframe thead th {\n",
       "        text-align: right;\n",
       "    }\n",
       "</style>\n",
       "<table border=\"1\" class=\"dataframe\">\n",
       "  <thead>\n",
       "    <tr style=\"text-align: right;\">\n",
       "      <th></th>\n",
       "      <th>group</th>\n",
       "      <th>deck</th>\n",
       "      <th>num</th>\n",
       "      <th>side</th>\n",
       "      <th>time_spent_foodcourt</th>\n",
       "      <th>time_spent_shoppingmall</th>\n",
       "      <th>time_spent_spa</th>\n",
       "      <th>time_spent_vrdeck</th>\n",
       "      <th>age_group</th>\n",
       "      <th>destination_group</th>\n",
       "      <th>home_group</th>\n",
       "    </tr>\n",
       "  </thead>\n",
       "  <tbody>\n",
       "    <tr>\n",
       "      <th>0</th>\n",
       "      <td>13</td>\n",
       "      <td>6</td>\n",
       "      <td>3</td>\n",
       "      <td>0</td>\n",
       "      <td>0</td>\n",
       "      <td>0</td>\n",
       "      <td>0</td>\n",
       "      <td>0</td>\n",
       "      <td>1</td>\n",
       "      <td>0</td>\n",
       "      <td>1</td>\n",
       "    </tr>\n",
       "    <tr>\n",
       "      <th>1</th>\n",
       "      <td>18</td>\n",
       "      <td>5</td>\n",
       "      <td>4</td>\n",
       "      <td>0</td>\n",
       "      <td>1</td>\n",
       "      <td>0</td>\n",
       "      <td>3</td>\n",
       "      <td>0</td>\n",
       "      <td>1</td>\n",
       "      <td>0</td>\n",
       "      <td>1</td>\n",
       "    </tr>\n",
       "    <tr>\n",
       "      <th>2</th>\n",
       "      <td>19</td>\n",
       "      <td>2</td>\n",
       "      <td>0</td>\n",
       "      <td>0</td>\n",
       "      <td>0</td>\n",
       "      <td>0</td>\n",
       "      <td>0</td>\n",
       "      <td>0</td>\n",
       "      <td>2</td>\n",
       "      <td>2</td>\n",
       "      <td>0</td>\n",
       "    </tr>\n",
       "    <tr>\n",
       "      <th>3</th>\n",
       "      <td>21</td>\n",
       "      <td>2</td>\n",
       "      <td>1</td>\n",
       "      <td>0</td>\n",
       "      <td>3</td>\n",
       "      <td>0</td>\n",
       "      <td>1</td>\n",
       "      <td>2</td>\n",
       "      <td>2</td>\n",
       "      <td>0</td>\n",
       "      <td>0</td>\n",
       "    </tr>\n",
       "    <tr>\n",
       "      <th>4</th>\n",
       "      <td>23</td>\n",
       "      <td>5</td>\n",
       "      <td>5</td>\n",
       "      <td>0</td>\n",
       "      <td>0</td>\n",
       "      <td>2</td>\n",
       "      <td>0</td>\n",
       "      <td>0</td>\n",
       "      <td>1</td>\n",
       "      <td>0</td>\n",
       "      <td>1</td>\n",
       "    </tr>\n",
       "  </tbody>\n",
       "</table>\n",
       "</div>"
      ],
      "text/plain": [
       "   group  deck  num  side  time_spent_foodcourt  time_spent_shoppingmall  \\\n",
       "0     13     6    3     0                     0                        0   \n",
       "1     18     5    4     0                     1                        0   \n",
       "2     19     2    0     0                     0                        0   \n",
       "3     21     2    1     0                     3                        0   \n",
       "4     23     5    5     0                     0                        2   \n",
       "\n",
       "   time_spent_spa  time_spent_vrdeck  age_group  destination_group  home_group  \n",
       "0               0                  0          1                  0           1  \n",
       "1               3                  0          1                  0           1  \n",
       "2               0                  0          2                  2           0  \n",
       "3               1                  2          2                  0           0  \n",
       "4               0                  0          1                  0           1  "
      ]
     },
     "execution_count": 582,
     "metadata": {},
     "output_type": "execute_result"
    }
   ],
   "source": [
    "X.head()"
   ]
  },
  {
   "cell_type": "code",
   "execution_count": 583,
   "id": "27dc3e6b",
   "metadata": {},
   "outputs": [],
   "source": [
    "# Make predictions\n",
    "predictions = rf1.predict(X)"
   ]
  },
  {
   "cell_type": "code",
   "execution_count": 584,
   "id": "87d38d9f",
   "metadata": {},
   "outputs": [],
   "source": [
    "# Prepare the result csv\n",
    "result = pd.DataFrame()\n",
    "result['PassengerId'] = test['PassengerId']\n",
    "result['Transported'] = predictions"
   ]
  },
  {
   "cell_type": "code",
   "execution_count": 585,
   "id": "41af62eb",
   "metadata": {},
   "outputs": [],
   "source": [
    "# Binary to boolean result\n",
    "result['Transported'] = np.where(result['Transported'] == 1, 'True',\n",
    "                                    np.where(result['Transported'] == 0, 'False', np.nan))"
   ]
  },
  {
   "cell_type": "code",
   "execution_count": 587,
   "id": "292aca87",
   "metadata": {},
   "outputs": [],
   "source": [
    "# Get the result csv\n",
    "result.to_csv('results/spaceship_prediction_2-01-24.csv', index=False)"
   ]
  },
  {
   "cell_type": "code",
   "execution_count": 588,
   "id": "2ee13b78",
   "metadata": {},
   "outputs": [
    {
     "data": {
      "text/html": [
       "<div>\n",
       "<style scoped>\n",
       "    .dataframe tbody tr th:only-of-type {\n",
       "        vertical-align: middle;\n",
       "    }\n",
       "\n",
       "    .dataframe tbody tr th {\n",
       "        vertical-align: top;\n",
       "    }\n",
       "\n",
       "    .dataframe thead th {\n",
       "        text-align: right;\n",
       "    }\n",
       "</style>\n",
       "<table border=\"1\" class=\"dataframe\">\n",
       "  <thead>\n",
       "    <tr style=\"text-align: right;\">\n",
       "      <th></th>\n",
       "      <th>PassengerId</th>\n",
       "      <th>Transported</th>\n",
       "    </tr>\n",
       "  </thead>\n",
       "  <tbody>\n",
       "    <tr>\n",
       "      <th>0</th>\n",
       "      <td>0013_01</td>\n",
       "      <td>True</td>\n",
       "    </tr>\n",
       "    <tr>\n",
       "      <th>1</th>\n",
       "      <td>0018_01</td>\n",
       "      <td>False</td>\n",
       "    </tr>\n",
       "    <tr>\n",
       "      <th>2</th>\n",
       "      <td>0019_01</td>\n",
       "      <td>True</td>\n",
       "    </tr>\n",
       "    <tr>\n",
       "      <th>3</th>\n",
       "      <td>0021_01</td>\n",
       "      <td>True</td>\n",
       "    </tr>\n",
       "    <tr>\n",
       "      <th>4</th>\n",
       "      <td>0023_01</td>\n",
       "      <td>False</td>\n",
       "    </tr>\n",
       "  </tbody>\n",
       "</table>\n",
       "</div>"
      ],
      "text/plain": [
       "  PassengerId Transported\n",
       "0     0013_01        True\n",
       "1     0018_01       False\n",
       "2     0019_01        True\n",
       "3     0021_01        True\n",
       "4     0023_01       False"
      ]
     },
     "execution_count": 588,
     "metadata": {},
     "output_type": "execute_result"
    }
   ],
   "source": [
    "result.head()"
   ]
  }
 ],
 "metadata": {
  "kernelspec": {
   "display_name": "My Virtual Env",
   "language": "python",
   "name": "myenv"
  },
  "language_info": {
   "codemirror_mode": {
    "name": "ipython",
    "version": 3
   },
   "file_extension": ".py",
   "mimetype": "text/x-python",
   "name": "python",
   "nbconvert_exporter": "python",
   "pygments_lexer": "ipython3",
   "version": "3.10.11"
  }
 },
 "nbformat": 4,
 "nbformat_minor": 5
}
